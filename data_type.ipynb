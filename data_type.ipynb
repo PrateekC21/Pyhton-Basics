{
  "nbformat": 4,
  "nbformat_minor": 0,
  "metadata": {
    "colab": {
      "provenance": []
    },
    "kernelspec": {
      "name": "python3",
      "display_name": "Python 3"
    },
    "language_info": {
      "name": "python"
    }
  },
  "cells": [
    {
      "cell_type": "markdown",
      "source": [
        "#DATA TYPE & STRUCTURE"
      ],
      "metadata": {
        "id": "bXh6967YBh6t"
      }
    },
    {
      "cell_type": "markdown",
      "source": [
        "1. What are data structures, and why are they important?\n",
        " - Data structure is a way of organizing and storing the data so that it can be accessed and manuplated easily.\n",
        " - Data structures are important because they help us organize and store data in a way that makes it easier to access, modify, and use efficiently. The right data structure improves the performance of a program, saves memory, and makes solving complex problems much simpler. Without them, even simple tasks could become slow and messy."
      ],
      "metadata": {
        "id": "fqI4XSXrB68k"
      }
    },
    {
      "cell_type": "markdown",
      "source": [
        "2. Explain the difference between mutable and immutable data types with examples.\n",
        "- Mutable\n",
        "  - It can be changed after creation (elements can be modified, added, or removed).\n",
        "  - The object’s memory address remains the same, even if contents change.\n",
        "  - For examples: list, dictionary, set etc\n",
        "  \n",
        "- Immutable\n",
        "  - Once created, you can’t change it. If you try, Python makes a new object\n",
        "  - That means a new memory address is given on modification.\n",
        "  - Examples: int, float, string, tuple, frozenset."
      ],
      "metadata": {
        "id": "QmNdu2saCBDV"
      }
    },
    {
      "cell_type": "markdown",
      "source": [
        "3. What are the main differences between lists and tuples in Python?\n",
        "- List\n",
        "  - Mutable (we can change, add, or remove elements).\n",
        "  - Takes slightly more memory.\n",
        "  - Slower in execution compared to tuples.\n",
        "  - Cannot be used as dictionary keys.\n",
        "  - Example: my_list = [1, 2, 3]\n",
        "- Tuple\n",
        "  - Tuples are immutable\n",
        "  - More memory-efficient.\n",
        "  - Faster in execution.\n",
        "  - Can be used as dictionary keys.\n",
        "  - Example: my_tuple = (1, 2, 3)"
      ],
      "metadata": {
        "id": "t_L3mpS-CMSp"
      }
    },
    {
      "cell_type": "markdown",
      "source": [
        " 4. Describe how dictionaries store data?\n",
        " - dictionary stores data in the from of key and value pair. Where value can be modified but keys can not."
      ],
      "metadata": {
        "id": "uUz2gxODCZ83"
      }
    },
    {
      "cell_type": "markdown",
      "source": [
        "5. Why might you use a set instead of a list in Python\n",
        "- Sets don’t allow duplicates, while lists do.\n",
        "- Sets are faster when we just need to check if something exists.\n",
        "- stes make math-like operations (union, intersection, difference) very easy.\n",
        "- sets can be used when the order of elements doesn’t matter.\n"
      ],
      "metadata": {
        "id": "Xjh3gQLbCdMd"
      }
    },
    {
      "cell_type": "markdown",
      "source": [
        " 6. What is a string in Python, and how is it different from a list.\n",
        " - A string in Python is a sequence of characters enclosed in quotes (\"hello\" or 'world'). It’s mainly used to store and work with text.\n",
        "\n",
        "- A list, on the other hand, is a collection that can hold different types of items (numbers, strings, even other lists) and is written with square brackets ([1, \"apple\", 3.5]).\n",
        "- A string is specifically for text and its characters are immutable (can’t be changed directly), while a list is more flexible, can store mixed data, and you can modify its elements.\n"
      ],
      "metadata": {
        "id": "rujw5kGFCfgj"
      }
    },
    {
      "cell_type": "markdown",
      "source": [
        "7. How do tuples ensure data integrity in Python?\n",
        "- Tuples in Python help ensure data integrity because they are immutable — once we create a tuple, we can’t change, add, or remove its elements.\n",
        "\n",
        "- This means the data inside a tuple stays safe and consistent throughout the program, making it a good choice when we want to store information that should never be altered (like dates, coordinates, or configuration values).\n"
      ],
      "metadata": {
        "id": "uqXuYmo3Choy"
      }
    },
    {
      "cell_type": "markdown",
      "source": [
        "8. What is a hash table, and how does it relate to dictionaries in Python.\n",
        "- A hash table is a data structure that stores key-value pairs. It uses a hash function to compute an index from a key, which tells it exactly where to store or find the corresponding value in an array.\n",
        "- A Python dictionary is a direct implementation of a hash table.\n",
        "- The dictionary's key is passed through the built-in hash() function to find its storage location.\n",
        "\n",
        "\n"
      ],
      "metadata": {
        "id": "hqFCDDcwCjvv"
      }
    },
    {
      "cell_type": "markdown",
      "source": [
        "9. Can lists contain different data types in Python.\n",
        "- Yes, they can.\n"
      ],
      "metadata": {
        "id": "YLoh9ptQClzT"
      }
    },
    {
      "cell_type": "markdown",
      "source": [
        "10. Explain why strings are immutable in Python.\n",
        "- Strings in Python are immutable, because once a string is created, it cannot be changed.\n"
      ],
      "metadata": {
        "id": "vRvg7bh1Codd"
      }
    },
    {
      "cell_type": "markdown",
      "source": [
        "11. What advantages do dictionaries offer over lists for certain tasks?\n",
        "-  Lists in Python\n",
        "\n",
        "    - A list is an ordered collection of items that can store multiple values of different data types (integers, strings, floats, etc.).\n",
        "\n",
        "  - Lists are indexed, meaning each element has a specific position starting from 0.\n",
        "\n",
        "  - They are mutable, so we can add, remove, or modify elements easily.\n",
        "\n",
        "  - Lists are ideal when the order of items matters or when we frequently need to iterate through elements.\n",
        "\n",
        "\n",
        "- Dictionaries in Python\n",
        "\n",
        "  - A dictionary is an unordered collection of data stored as key-value pairs.\n",
        "\n",
        "  - Unlike lists, dictionaries allow us to access data directly using a key instead of relying on index positions.\n",
        "\n",
        "  - They are also mutable, meaning we can add, update, or delete key-value pairs.\n",
        "\n",
        "  - Dictionaries are better when we need fast lookups, associating values with unique identifiers, or mapping relationships between data.\n",
        "\n",
        "- Key Advantage:\n",
        "\n",
        "  - Lists are better for sequential data where the order matters.\n",
        "\n",
        "  - Dictionaries are better for fast data retrieval when we need to search by a unique key instead of scanning the entire structure."
      ],
      "metadata": {
        "id": "Pxzp2XuhC_uw"
      }
    },
    {
      "cell_type": "markdown",
      "source": [
        "12. Describe a scenario where using a tuple would be preferable over a list?\n",
        "- A tuple would be preferable over a list when we need to store a fixed collection of data that should not be changed throughout the program.\n",
        "- for example :\n",
        "  - If we are building a program to store the geographical coordinates of a city, then tuple is preferable because Coordinates should never change accidentally during program execution."
      ],
      "metadata": {
        "id": "18AGlmJ0D0Si"
      }
    },
    {
      "cell_type": "markdown",
      "source": [
        "13. How do sets handle duplicate values in Python.\n",
        "- In Python, sets automatically remove duplicate values. When we add duplicate elements to a set, Python stores only one unique instance of each value."
      ],
      "metadata": {
        "id": "bMK7alZTDDe9"
      }
    },
    {
      "cell_type": "markdown",
      "source": [
        "14. How does the “in” keyword work differently for lists and dictionaries?\n",
        "\n",
        "- For Lists:\n",
        "  - in checks if a value exists inside the list.\n",
        "  - It performs a linear search, so time complexity is O(n).\n",
        "- For Dictionaries:\n",
        "  - in checks if a key exists in the dictionary, not the value.\n",
        "  - Searching for keys is faster because dictionaries use hashing — time complexity is O(1) on average."
      ],
      "metadata": {
        "id": "kI9biOhaDHc_"
      }
    },
    {
      "cell_type": "markdown",
      "source": [
        "15. Can you modify the elements of a tuple? Explain why or why not?\n",
        "- We can not modify elements of a tuple because it is immutable data stucture.\n"
      ],
      "metadata": {
        "id": "ThzyGPgYDJMd"
      }
    },
    {
      "cell_type": "markdown",
      "source": [
        "16. What is a nested dictionary, and give an example of its use case?\n",
        "- When we define (make) a dictionary inside another dictionary then it is called nested dictionary.\n",
        "- It is used because it allows us to store hierarchical or structured data in a compact form.\n",
        "- For example :\n",
        "  - Nested dictionaries are useful when we need to represent complex structured data like -\n",
        "\n",
        "  1.   Student database (ID → details)\n",
        "  2.   E-commerce data (Product → specifications)\n",
        "  3.   JSON-like hierarchical data\n"
      ],
      "metadata": {
        "id": "X4dbSlZqDLS6"
      }
    },
    {
      "cell_type": "markdown",
      "source": [
        "17. Describe the time complexity of accessing elements in a dictionary.\n",
        "- Average and best case time complexity in O(1) (constant time).\n",
        "- Worst case time complexity is O(n), which happens rarely, when many keys have the same hash (hash collisions).\n",
        "- Python internally resolves collisions using techniques like open addressing, so performance degradation is uncommon.\n",
        "\n"
      ],
      "metadata": {
        "id": "9NRDljl-DNTV"
      }
    },
    {
      "cell_type": "markdown",
      "source": [
        " 18. In what situations are lists preferred over dictionaries?\n",
        "\n",
        " - Situations Where Lists Are Preferred Over Dictionaries in Python\n",
        "  - When Order Matters\n",
        "  - When keys are not neede\n",
        "  - For Sequential Data (Best suited when you have a collection of items that are logically ordered, like names, scores, or dates).\n",
        "  - When Index-Based Access Is Required (Lists allow accessing elements directly using their index positions).\n",
        "  - there are many more situations where list is prefred ob=ver dictionaries."
      ],
      "metadata": {
        "id": "Dn37wtIYDRK1"
      }
    },
    {
      "cell_type": "markdown",
      "source": [
        "19. Why are dictionaries considered unordered, and how does that affect data retrieval?\n",
        "- dictionaries are considerd unordered in python because\n",
        "  - Dictionaries store data as key-value pairs, and elements are not accessed by position but by their keys. Hence, there is no inherent index like in lists.\n",
        "  - In versions before Python 3.7, dictionaries didn’t preserve the insertion order, so iterating over them could return items in a random order.\n",
        "  - Since dictionaries are key-based, we cannot retrieve values using numerical positions like we do with lists."
      ],
      "metadata": {
        "id": "ZQYwaWRKDS0l"
      }
    },
    {
      "cell_type": "markdown",
      "source": [
        " 20. Explain the difference between a list and a dictionary in terms of data retrieval?\n",
        "\n",
        "- Access Method\n",
        "  - List → Elements are accessed using index positions.\n",
        "  - Dictionary → Elements are accessed using unique keys.\n",
        "- Index vs. Key\n",
        "  - List → Retrieval requires knowing the index of the element.\n",
        "  - Dictionary → Retrieval requires knowing the key associated with the value.\n",
        "- Time Complexity\n",
        "  - List → Accessing by index → O(1), but searching by value → O(n).\n",
        "  - Dictionary → Accessing by key → O(1) on average.\n",
        "- Data Organization\n",
        "  - List → Stores data in an ordered sequence.\n",
        "  - Dictionary → Stores data as key-value pairs, without relying on order (in - Python 3.7+, insertion order is preserved).\n",
        "- Use Case\n",
        "  - List → Best when you need to store ordered items and access by position.\n",
        "  - Dictionary → Best when you need fast retrieval using unique identifiers.\n"
      ],
      "metadata": {
        "id": "sDCSOZltDVRs"
      }
    },
    {
      "cell_type": "markdown",
      "source": [
        "#Prcatical Questions\n"
      ],
      "metadata": {
        "id": "8w2R-pDOm52s"
      }
    },
    {
      "cell_type": "markdown",
      "source": [
        " 1.Write a code to create a string with your name and print it."
      ],
      "metadata": {
        "id": "CqpRD5qOm_ZL"
      }
    },
    {
      "cell_type": "code",
      "source": [
        "\n",
        "name = input(\"Enter your name: \").strip()\n",
        "\n",
        "print(\"My name is:\", name)\n"
      ],
      "metadata": {
        "colab": {
          "base_uri": "https://localhost:8080/"
        },
        "id": "f0RQ_ilUm_2t",
        "outputId": "69c0b059-3bfa-402b-ae2f-220c7a717f3c"
      },
      "execution_count": null,
      "outputs": [
        {
          "output_type": "stream",
          "name": "stdout",
          "text": [
            "Enter your name :Prateek\n",
            "My name is: Prateek\n"
          ]
        }
      ]
    },
    {
      "cell_type": "markdown",
      "source": [
        "2. Write a code to find the length of the string \"Hello World\"."
      ],
      "metadata": {
        "id": "sCwEOB2HCnHe"
      }
    },
    {
      "cell_type": "code",
      "source": [
        "a = \"Hello World\"\n",
        "length = len(a)\n",
        "print(length)"
      ],
      "metadata": {
        "colab": {
          "base_uri": "https://localhost:8080/"
        },
        "id": "tEnzvulkCppi",
        "outputId": "f22ab89f-db09-49f9-9df5-722a63485c5e"
      },
      "execution_count": 1,
      "outputs": [
        {
          "output_type": "stream",
          "name": "stdout",
          "text": [
            "11\n"
          ]
        }
      ]
    },
    {
      "cell_type": "markdown",
      "source": [
        "3. Write a code to slice the first 3 characters from the string \"Python Programming."
      ],
      "metadata": {
        "id": "laPTePXQB3iR"
      }
    },
    {
      "cell_type": "code",
      "source": [
        "a = \"Python Programming\"\n",
        "print(a[0:3])"
      ],
      "metadata": {
        "colab": {
          "base_uri": "https://localhost:8080/"
        },
        "id": "HdPfTf04B65n",
        "outputId": "a0e08a67-0b86-4c19-92b1-26f2e2ad1a12"
      },
      "execution_count": 1,
      "outputs": [
        {
          "output_type": "stream",
          "name": "stdout",
          "text": [
            "Pyt\n"
          ]
        }
      ]
    },
    {
      "cell_type": "markdown",
      "source": [
        "4. Write a code to convert the string \"hello\" to uppercase."
      ],
      "metadata": {
        "id": "u1dJYUgGCDJx"
      }
    },
    {
      "cell_type": "code",
      "source": [
        "lower_str = \"hello\"\n",
        "upper_str = lower_str.upper()\n",
        "print(upper_str)\n"
      ],
      "metadata": {
        "colab": {
          "base_uri": "https://localhost:8080/"
        },
        "id": "gZaR3DTJCLfi",
        "outputId": "3c67f1c0-c023-45f0-bbd9-35b96d8dc11d"
      },
      "execution_count": 2,
      "outputs": [
        {
          "output_type": "stream",
          "name": "stdout",
          "text": [
            "HELLO\n"
          ]
        }
      ]
    },
    {
      "cell_type": "markdown",
      "source": [
        "5. Write a code to replace the word \"apple\" with \"orange\" in the string \"I like apple."
      ],
      "metadata": {
        "id": "hfaJ1FdUCeMI"
      }
    },
    {
      "cell_type": "code",
      "source": [
        "org_str = \"I like apple\"\n",
        "print(org_str)\n",
        "new_str = org_str.replace(\"apple\", \"orange\")\n",
        "print(new_str)\n"
      ],
      "metadata": {
        "colab": {
          "base_uri": "https://localhost:8080/"
        },
        "id": "APYixnoODA80",
        "outputId": "40c743f5-4885-4dd4-8f7c-bee2e1d94361"
      },
      "execution_count": 3,
      "outputs": [
        {
          "output_type": "stream",
          "name": "stdout",
          "text": [
            "I like orange\n"
          ]
        }
      ]
    },
    {
      "cell_type": "markdown",
      "source": [
        "6. Write a code to create a list with numbers 1 to 5 and print it."
      ],
      "metadata": {
        "id": "TK-Vct08DVpI"
      }
    },
    {
      "cell_type": "code",
      "source": [
        "b = []\n",
        "n = 1\n",
        "while n<=5:\n",
        "  b.append(n)\n",
        "  n += 1\n",
        "print(b)"
      ],
      "metadata": {
        "colab": {
          "base_uri": "https://localhost:8080/"
        },
        "id": "hjoiSVz7DVKC",
        "outputId": "d9e4489d-5d23-46df-84f7-7913235bf829"
      },
      "execution_count": 9,
      "outputs": [
        {
          "output_type": "stream",
          "name": "stdout",
          "text": [
            "[1, 2, 3, 4, 5]\n"
          ]
        }
      ]
    },
    {
      "cell_type": "markdown",
      "source": [
        "7. Write a code to append the number 10 to the list [1, 2, 3, 4]."
      ],
      "metadata": {
        "id": "pFpo3b83EiO9"
      }
    },
    {
      "cell_type": "code",
      "source": [
        "lst1 = [1,2,3,4]\n",
        "lst1.append(10)\n",
        "print(lst1)"
      ],
      "metadata": {
        "colab": {
          "base_uri": "https://localhost:8080/"
        },
        "id": "yrI7O3DLEoxi",
        "outputId": "2a3983b2-8519-45e9-99d0-14bfc5c376d3"
      },
      "execution_count": 10,
      "outputs": [
        {
          "output_type": "stream",
          "name": "stdout",
          "text": [
            "[1, 2, 3, 4, 10]\n"
          ]
        }
      ]
    },
    {
      "cell_type": "markdown",
      "source": [
        "8. Write a code to remove the number 3 from the list [1, 2, 3, 4, 5].\n"
      ],
      "metadata": {
        "id": "5yGc00imE-su"
      }
    },
    {
      "cell_type": "code",
      "source": [
        "lst2 =[1, 2, 3, 4, 5]\n",
        "lst2.remove(3)\n",
        "print(lst2)"
      ],
      "metadata": {
        "colab": {
          "base_uri": "https://localhost:8080/"
        },
        "id": "hq-HF_96FNOO",
        "outputId": "1ea2a782-909f-4451-d79b-157cc8aa1771"
      },
      "execution_count": 11,
      "outputs": [
        {
          "output_type": "stream",
          "name": "stdout",
          "text": [
            "[1, 2, 4, 5]\n"
          ]
        }
      ]
    },
    {
      "cell_type": "markdown",
      "source": [
        "9. Write a code to access the second element in the list ['a', 'b', 'c', 'd']"
      ],
      "metadata": {
        "id": "PU0BDT3LFU4C"
      }
    },
    {
      "cell_type": "code",
      "source": [
        "lst3 = ['a', 'b', 'c', 'd']\n",
        "print(lst3[1])"
      ],
      "metadata": {
        "colab": {
          "base_uri": "https://localhost:8080/"
        },
        "id": "wkpTor01FqG5",
        "outputId": "c981bedd-d22a-4750-b46c-20333bf0e0c8"
      },
      "execution_count": 13,
      "outputs": [
        {
          "output_type": "stream",
          "name": "stdout",
          "text": [
            "b\n"
          ]
        }
      ]
    },
    {
      "cell_type": "markdown",
      "source": [
        "10. Write a code to reverse the list [10, 20, 30, 40, 50]."
      ],
      "metadata": {
        "id": "6zehtPskF5tN"
      }
    },
    {
      "cell_type": "code",
      "source": [
        "lst4 = [10, 20, 30, 40, 50]\n",
        "lst4 = lst4[::-1]\n",
        "print(lst4)"
      ],
      "metadata": {
        "colab": {
          "base_uri": "https://localhost:8080/"
        },
        "id": "uUhiMSoeF_ig",
        "outputId": "b6302b56-7dcb-4bbd-c35e-40fc2cccc567"
      },
      "execution_count": 15,
      "outputs": [
        {
          "output_type": "stream",
          "name": "stdout",
          "text": [
            "[50, 40, 30, 20, 10]\n"
          ]
        }
      ]
    },
    {
      "cell_type": "markdown",
      "source": [
        "11. Write a code to create a tuple with the elements 100, 200, 300 and print it"
      ],
      "metadata": {
        "id": "Dp1ohHgpGh9s"
      }
    },
    {
      "cell_type": "code",
      "source": [
        "tup1 = (100, 200, 300)\n",
        "print(tup1)"
      ],
      "metadata": {
        "colab": {
          "base_uri": "https://localhost:8080/"
        },
        "id": "q_SyqsxGGpnO",
        "outputId": "57c56a45-20f8-4218-c2ff-5a723d23e30c"
      },
      "execution_count": 1,
      "outputs": [
        {
          "output_type": "stream",
          "name": "stdout",
          "text": [
            "(100, 200, 300)\n"
          ]
        }
      ]
    },
    {
      "cell_type": "markdown",
      "source": [
        "12. Write a code to access the second-to-last element of the tuple ('red', 'green', 'blue', 'yellow')."
      ],
      "metadata": {
        "id": "spikiPxPGvct"
      }
    },
    {
      "cell_type": "code",
      "source": [
        "tup2 = ('red', 'green', 'blue', 'yellow')\n",
        "print(tup2[1:])"
      ],
      "metadata": {
        "colab": {
          "base_uri": "https://localhost:8080/"
        },
        "id": "GMJKIN7FHsiF",
        "outputId": "73e5f516-e2e4-40e7-a9d5-6571d6196d45"
      },
      "execution_count": 2,
      "outputs": [
        {
          "output_type": "stream",
          "name": "stdout",
          "text": [
            "('green', 'blue', 'yellow')\n"
          ]
        }
      ]
    },
    {
      "cell_type": "markdown",
      "source": [
        " 13. Write a code to find the minimum number in the tuple (10, 20, 5, 15)."
      ],
      "metadata": {
        "id": "4NlJR0UZHp9u"
      }
    },
    {
      "cell_type": "code",
      "source": [
        "tup3=(10, 20, 5, 15)\n",
        "minimum=min(tup3)\n",
        "print(minimum)"
      ],
      "metadata": {
        "colab": {
          "base_uri": "https://localhost:8080/"
        },
        "id": "a0DmCSwQH01x",
        "outputId": "ab1c6053-e8f0-4d74-f25d-7df173786a30"
      },
      "execution_count": 3,
      "outputs": [
        {
          "output_type": "stream",
          "name": "stdout",
          "text": [
            "5\n"
          ]
        }
      ]
    },
    {
      "cell_type": "markdown",
      "source": [
        " 14. Write a code to find the index of the element \"cat\" in the tuple ('dog', 'cat', 'rabbit')."
      ],
      "metadata": {
        "id": "f8q02wNhIcLL"
      }
    },
    {
      "cell_type": "code",
      "source": [
        "animal = ('dog', 'cat', 'rabbit')\n",
        "ir = animal.index('cat')\n",
        "print(ir)\n"
      ],
      "metadata": {
        "colab": {
          "base_uri": "https://localhost:8080/"
        },
        "id": "pqSozBHkIjr1",
        "outputId": "0db298fc-0599-4ab4-b608-059210b72dee"
      },
      "execution_count": 25,
      "outputs": [
        {
          "output_type": "stream",
          "name": "stdout",
          "text": [
            "1\n"
          ]
        }
      ]
    },
    {
      "cell_type": "markdown",
      "source": [
        " Write a code to create a tuple containing three different fruits and check if \"kiwi\" is in it.\n",
        "\n"
      ],
      "metadata": {
        "id": "0GRUbyDnJkjZ"
      }
    },
    {
      "cell_type": "code",
      "source": [
        "fruits = (\"apple\", \"banana\", \"orange\")\n",
        "if \"kiwi\" in fruits:\n",
        "    print(\"kiwi is in the tuple\")\n",
        "else:\n",
        "    print(\"kiwi is not in the tuple\")"
      ],
      "metadata": {
        "colab": {
          "base_uri": "https://localhost:8080/"
        },
        "id": "ali9IajOJrA2",
        "outputId": "256bcce1-6c6c-4dbb-a3d9-141e0130a558"
      },
      "execution_count": 26,
      "outputs": [
        {
          "output_type": "stream",
          "name": "stdout",
          "text": [
            "kiwi is not in the tuple\n"
          ]
        }
      ]
    },
    {
      "cell_type": "markdown",
      "source": [
        "16. Write a code to create a set with the elements 'a', 'b', 'c' and print it."
      ],
      "metadata": {
        "id": "UbO5FNA7KEYY"
      }
    },
    {
      "cell_type": "code",
      "source": [
        "set1 = {'a', 'b', 'c'}\n",
        "print(set1)"
      ],
      "metadata": {
        "colab": {
          "base_uri": "https://localhost:8080/"
        },
        "id": "8nrOVXWfJ7w2",
        "outputId": "5843ac81-a992-49e0-e17e-022f3782ea02"
      },
      "execution_count": 27,
      "outputs": [
        {
          "output_type": "stream",
          "name": "stdout",
          "text": [
            "{'a', 'b', 'c'}\n"
          ]
        }
      ]
    },
    {
      "cell_type": "markdown",
      "source": [
        " 17. Write a code to clear all elements from the set {1, 2, 3, 4, 5}."
      ],
      "metadata": {
        "id": "1vF2gJyqKP55"
      }
    },
    {
      "cell_type": "code",
      "source": [
        "set2 = {1, 2, 3, 4, 5}\n",
        "set2.clear()\n",
        "print(set2)\n"
      ],
      "metadata": {
        "colab": {
          "base_uri": "https://localhost:8080/"
        },
        "id": "7BdWnkeWKQ4c",
        "outputId": "14d65c24-80dc-47da-b923-9bae658ac23d"
      },
      "execution_count": 31,
      "outputs": [
        {
          "output_type": "stream",
          "name": "stdout",
          "text": [
            "set()\n"
          ]
        }
      ]
    },
    {
      "cell_type": "markdown",
      "source": [
        " 18. Write a code to remove the element 4 from the set {1, 2, 3, 4}."
      ],
      "metadata": {
        "id": "x8KxReSvK4MO"
      }
    },
    {
      "cell_type": "code",
      "source": [
        "set3 = {1, 2, 3, 4}\n",
        "set3.remove(4)\n",
        "print(set3)\n"
      ],
      "metadata": {
        "colab": {
          "base_uri": "https://localhost:8080/"
        },
        "id": "QSE_Ji-pK4sz",
        "outputId": "31699706-2519-4f4c-c7d4-ade08d7b4fbd"
      },
      "execution_count": 32,
      "outputs": [
        {
          "output_type": "stream",
          "name": "stdout",
          "text": [
            "{1, 2, 3}\n"
          ]
        }
      ]
    },
    {
      "cell_type": "markdown",
      "source": [
        "19. Write a code to find the union of two sets {1, 2, 3} and {3, 4, 5}."
      ],
      "metadata": {
        "id": "N2NlJeEaLSCO"
      }
    },
    {
      "cell_type": "code",
      "source": [
        "set5= {1, 2, 3}\n",
        "set6= {3, 4, 5}\n",
        "set5=set5.union(set6)\n",
        "print(set5)\n"
      ],
      "metadata": {
        "colab": {
          "base_uri": "https://localhost:8080/"
        },
        "id": "6z2z9kTULWEJ",
        "outputId": "207ffbaf-fb53-4045-f7b6-4dffc17d3900"
      },
      "execution_count": 34,
      "outputs": [
        {
          "output_type": "stream",
          "name": "stdout",
          "text": [
            "{1, 2, 3, 4, 5}\n"
          ]
        }
      ]
    },
    {
      "cell_type": "markdown",
      "source": [
        "20. Write a code to find the intersection of two sets {1, 2, 3} and {2, 3, 4}.\n"
      ],
      "metadata": {
        "id": "6JhDfatqLwMY"
      }
    },
    {
      "cell_type": "code",
      "source": [
        "inter1 = {1, 2, 3}\n",
        "inter2 = {2, 3, 4}\n",
        "inter3 = inter1.intersection(inter2)\n",
        "print(inter3)"
      ],
      "metadata": {
        "colab": {
          "base_uri": "https://localhost:8080/"
        },
        "id": "yk204PAgL1pe",
        "outputId": "62928e41-4be7-4860-da8b-1a66802ff6e2"
      },
      "execution_count": 35,
      "outputs": [
        {
          "output_type": "stream",
          "name": "stdout",
          "text": [
            "{2, 3}\n"
          ]
        }
      ]
    },
    {
      "cell_type": "markdown",
      "source": [
        " 21. Write a code to create a dictionary with the keys \"name\", \"age\", and \"city, and print it."
      ],
      "metadata": {
        "id": "LzinKM6uL2F5"
      }
    },
    {
      "cell_type": "code",
      "source": [
        "dictionary = {\"name\": \"John\", \"age\": 30, \"city\": \"New York\"}\n",
        "print(dictionary)\n"
      ],
      "metadata": {
        "colab": {
          "base_uri": "https://localhost:8080/"
        },
        "id": "NG4gVBTIL2hw",
        "outputId": "4d38ebc0-6944-4c63-f1e9-e0a55928e8dd"
      },
      "execution_count": 36,
      "outputs": [
        {
          "output_type": "stream",
          "name": "stdout",
          "text": [
            "{'name': 'John', 'age': 30, 'city': 'New York'}\n"
          ]
        }
      ]
    },
    {
      "cell_type": "markdown",
      "source": [
        "22. Write a code to add a new key-value pair \"country\": \"USA\" to the dictionary {'name': 'John', 'age': 25}."
      ],
      "metadata": {
        "id": "niY6exsVMQaX"
      }
    },
    {
      "cell_type": "code",
      "source": [
        "dict1 = {'name': 'John', 'age': 25}\n",
        "dict1[\"country\"] = \"USA\"\n",
        "print(dict1)"
      ],
      "metadata": {
        "colab": {
          "base_uri": "https://localhost:8080/"
        },
        "id": "bX9wAg_AMgDQ",
        "outputId": "fa196de4-0b02-457c-d161-21e6b38bcea4"
      },
      "execution_count": 37,
      "outputs": [
        {
          "output_type": "stream",
          "name": "stdout",
          "text": [
            "{'name': 'John', 'age': 25, 'country': 'USA'}\n"
          ]
        }
      ]
    },
    {
      "cell_type": "markdown",
      "source": [
        "23. Write a code to access the value associated with the key \"name\" in the dictionary {'name': 'Alice', 'age': 30}."
      ],
      "metadata": {
        "id": "-1oh0dSqMy8l"
      }
    },
    {
      "cell_type": "code",
      "source": [
        "dict2 =   {'name': 'Alice', 'age': 30}\n",
        "print(dict2[\"name\"])"
      ],
      "metadata": {
        "colab": {
          "base_uri": "https://localhost:8080/"
        },
        "id": "yWoedE8GMrc_",
        "outputId": "fe557cd5-1aba-4acc-91f4-7c95d91df17e"
      },
      "execution_count": 38,
      "outputs": [
        {
          "output_type": "stream",
          "name": "stdout",
          "text": [
            "Alice\n"
          ]
        }
      ]
    },
    {
      "cell_type": "markdown",
      "source": [
        "24. Write a code to remove the key \"age\" from the dictionary {'name': 'Bob', 'age': 22, 'city': 'New York'}."
      ],
      "metadata": {
        "id": "SUJGPvG3M9J_"
      }
    },
    {
      "cell_type": "code",
      "source": [
        "dict3 = {'name': 'Bob', 'age': 22, 'city': 'New York'}\n",
        "del dict3[\"age\"]\n",
        "print(dict3)\n"
      ],
      "metadata": {
        "colab": {
          "base_uri": "https://localhost:8080/"
        },
        "id": "KLQu6aY_M-RW",
        "outputId": "55c68d6f-780d-46ad-ef7c-a92e9a362c16"
      },
      "execution_count": 43,
      "outputs": [
        {
          "output_type": "stream",
          "name": "stdout",
          "text": [
            "{'name': 'Bob', 'city': 'New York'}\n"
          ]
        }
      ]
    },
    {
      "cell_type": "code",
      "source": [
        "dict4 = {'name': 'Bob', 'age': 22, 'city': 'New York'}\n",
        "dict4.pop(\"age\")\n",
        "print(dict3)"
      ],
      "metadata": {
        "colab": {
          "base_uri": "https://localhost:8080/"
        },
        "id": "X_z7eOZdN0nf",
        "outputId": "d52beb40-9c1a-41f5-c2db-2151f62ffad7"
      },
      "execution_count": 45,
      "outputs": [
        {
          "output_type": "stream",
          "name": "stdout",
          "text": [
            "{'name': 'Bob', 'city': 'New York'}\n"
          ]
        }
      ]
    },
    {
      "cell_type": "markdown",
      "source": [
        "25. Write a code to check if the key \"city\" exists in the dictionary {'name': 'Alice', 'city': 'Paris'}."
      ],
      "metadata": {
        "id": "oOk_XlsvN9Lo"
      }
    },
    {
      "cell_type": "code",
      "source": [
        "dict5={\"name\": \"Alice\", \"city\": \"Paris\"}\n",
        "if \"city\" in dict5:\n",
        "  print(\"city exists\")\n",
        "else:\n",
        "  print(\"city does not exist\")"
      ],
      "metadata": {
        "colab": {
          "base_uri": "https://localhost:8080/"
        },
        "id": "Od9CYW9jOA8m",
        "outputId": "a1086368-43ea-4e9b-a3f4-147b8e1aec56"
      },
      "execution_count": 46,
      "outputs": [
        {
          "output_type": "stream",
          "name": "stdout",
          "text": [
            "city exists\n"
          ]
        }
      ]
    },
    {
      "cell_type": "markdown",
      "source": [
        "26. Write a code to create a list, a tuple, and a dictionary, and print them all."
      ],
      "metadata": {
        "id": "64jFygByOPEl"
      }
    },
    {
      "cell_type": "code",
      "source": [
        "# Creating a list\n",
        "my_list = [1, 2, 3, 4, 5]\n",
        "\n",
        "# Creating a tuple\n",
        "my_tuple = (10, 20, 30, 40, 50)\n",
        "\n",
        "# Creating a dictionary\n",
        "my_dict = {\n",
        "    \"name\": \"Voldemort\",\n",
        "    \"age\": 999999,\n",
        "    \"course\": \"Wizard\"\n",
        "}\n",
        "\n",
        "# Printing all\n",
        "print(\"List:\", my_list)\n",
        "print(\"Tuple:\", my_tuple)\n",
        "print(\"Dictionary:\", my_dict)\n"
      ],
      "metadata": {
        "colab": {
          "base_uri": "https://localhost:8080/"
        },
        "id": "P_VG9lkrOViR",
        "outputId": "23ca3e65-4c93-4e6d-8912-5fdbc04e76dd"
      },
      "execution_count": 47,
      "outputs": [
        {
          "output_type": "stream",
          "name": "stdout",
          "text": [
            "List: [1, 2, 3, 4, 5]\n",
            "Tuple: (10, 20, 30, 40, 50)\n",
            "Dictionary: {'name': 'Voldemort', 'age': 999999, 'course': 'Wizard'}\n"
          ]
        }
      ]
    },
    {
      "cell_type": "markdown",
      "source": [
        " 27. Write a code to create a list of 5 random numbers between 1 and 100, sort it in ascending order, and print the result.(replaced)."
      ],
      "metadata": {
        "id": "fUI_UPfvPBt3"
      }
    },
    {
      "cell_type": "code",
      "source": [
        "import random\n",
        "random_list = []\n",
        "for i in range(5):\n",
        "    random_list.append(random.randint(1, 100))\n",
        "print(f\"ramdom list is: {random_list}\")\n",
        "random_list.sort()\n",
        "print(f\"after sorting: {random_list}\")"
      ],
      "metadata": {
        "colab": {
          "base_uri": "https://localhost:8080/"
        },
        "id": "iwxCSGppPcnI",
        "outputId": "ba587ec3-3877-4646-bb59-d76169fe1e83"
      },
      "execution_count": 52,
      "outputs": [
        {
          "output_type": "stream",
          "name": "stdout",
          "text": [
            "ramdom list is: [52, 52, 74, 20, 71]\n",
            "after sorting: [20, 52, 52, 71, 74]\n"
          ]
        }
      ]
    },
    {
      "cell_type": "markdown",
      "source": [
        "28. Write a code to create a list with strings and print the element at the third index."
      ],
      "metadata": {
        "id": "Ns6DjNwWRD2m"
      }
    },
    {
      "cell_type": "code",
      "source": [
        "str_list = [\"apple\", \"banana\", \"cherry\", \"date\", \"elderberry\"]\n",
        "print(str_list[2])"
      ],
      "metadata": {
        "colab": {
          "base_uri": "https://localhost:8080/"
        },
        "id": "0983MeziRImP",
        "outputId": "2e227cdd-2299-45c0-eebf-6b50c1418c47"
      },
      "execution_count": 4,
      "outputs": [
        {
          "output_type": "stream",
          "name": "stdout",
          "text": [
            "cherry\n"
          ]
        }
      ]
    },
    {
      "cell_type": "markdown",
      "source": [
        " 29. Write a code to combine two dictionaries into one and print the result."
      ],
      "metadata": {
        "id": "h6jzlDZeRM9G"
      }
    },
    {
      "cell_type": "code",
      "source": [
        "d1 = {\"animal\":\"cat\",\"fruit\":\"apple\"}\n",
        "d2 = {\"fruit\":\"banana\",\"city\":\"LA\"}\n",
        "d1 = {**d1, **d2}\n",
        "print(d1)"
      ],
      "metadata": {
        "colab": {
          "base_uri": "https://localhost:8080/"
        },
        "id": "isg6G5pWRMNP",
        "outputId": "7472e8b9-2c0e-4147-d60e-a694d2f3da77"
      },
      "execution_count": 59,
      "outputs": [
        {
          "output_type": "stream",
          "name": "stdout",
          "text": [
            "{'animal': 'cat', 'fruit': 'banana', 'city': 'LA'}\n"
          ]
        }
      ]
    },
    {
      "cell_type": "markdown",
      "source": [
        " 30. Write a code to convert a list of strings into a set."
      ],
      "metadata": {
        "id": "B53sOiD_RP8O"
      }
    },
    {
      "cell_type": "code",
      "source": [
        "string_list = [\"apple\", \"banana\", \"cherry\", \"date\", \"elderberry\"]\n",
        "string_set = set(string_list)\n",
        "print(string_set)"
      ],
      "metadata": {
        "colab": {
          "base_uri": "https://localhost:8080/"
        },
        "id": "LNvItqWHRPcR",
        "outputId": "175de74b-64c7-49c0-a2b6-85d341700ac1"
      },
      "execution_count": 5,
      "outputs": [
        {
          "output_type": "stream",
          "name": "stdout",
          "text": [
            "{'apple', 'banana', 'date', 'cherry', 'elderberry'}\n"
          ]
        }
      ]
    }
  ]
}