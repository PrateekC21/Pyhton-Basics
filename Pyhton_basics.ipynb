{
  "nbformat": 4,
  "nbformat_minor": 0,
  "metadata": {
    "colab": {
      "provenance": []
    },
    "kernelspec": {
      "name": "python3",
      "display_name": "Python 3"
    },
    "language_info": {
      "name": "python"
    }
  },
  "cells": [
    {
      "cell_type": "markdown",
      "source": [
        "#PYTHON BASICS\n"
      ],
      "metadata": {
        "id": "6oe8GDfwwfjG"
      }
    },
    {
      "cell_type": "markdown",
      "source": [
        " 1.What is Python, and why is it popular?\n",
        " - Python is a high-level, interpreted, programming language developed by Guido van Rossum in 1991.\n",
        " - Python is popular because it is easy to learn, simple to read and write, and can be used for many different purposes like web development, data science, artificial intelligence, machine learning, automation, and more.\n",
        " - It has a huge collection of libraries and frameworks, works on all major platforms, and is supported by a large, active community."
      ],
      "metadata": {
        "id": "4XH4d28cwnue"
      }
    },
    {
      "cell_type": "markdown",
      "source": [
        "2.What is an interpreter in Python?\n",
        "- In Python, an interpreter is the one who reads and executes Python code line by line instead of compiling all at once into machine code."
      ],
      "metadata": {
        "id": "42na3rdoy9HM"
      }
    },
    {
      "cell_type": "markdown",
      "source": [
        "3.What are pre-defined keywords in Python?\n",
        "- These are special words that have fixed meanings and purposes in the Python language (pre-defined means previously defined).\n",
        "- They are reserved by Python, so no one can use them as variable names, function names, or identifiers.\n",
        "- Some of the pre-defined keywords are -\n",
        "  - break, class, continue, def, elif, else, except, False, for, from, global, if, import, and, as, etc."
      ],
      "metadata": {
        "id": "lUeO94iszh7g"
      }
    },
    {
      "cell_type": "markdown",
      "source": [
        "4.Can keywords be used as variable name?\n",
        "- No.\n"
      ],
      "metadata": {
        "id": "3seHheex2Cnk"
      }
    },
    {
      "cell_type": "markdown",
      "source": [
        "5.What is mutability in Python\n",
        "- Ability to change the value of an object after it's creation without changing objects identiy is known as mutability. For example list is mutable but tuples are immutable."
      ],
      "metadata": {
        "id": "R6n8sD2o2Qu0"
      }
    },
    {
      "cell_type": "markdown",
      "source": [
        "6.Why are lists mutable, but tuples are immutable?\n",
        "- Because we can change, add or remove the objects from lists after it's creation but it is not possible in tuples."
      ],
      "metadata": {
        "id": "nVyH7TQ83EUE"
      }
    },
    {
      "cell_type": "markdown",
      "source": [
        "7.What is the difference between “==” and “is” operators in Python?\n",
        "- == (Equality Operator)\n",
        "  - Checks if values are equal, regardless of whether they are the same object in memory.\n",
        "  - Compares contents.\n",
        "- is (Identity Operator)\n",
        "  - Checks if two variables refer to the exact same object in memory.\n",
        "  - Compares object identity."
      ],
      "metadata": {
        "id": "_jfeseG93Z1U"
      }
    },
    {
      "cell_type": "markdown",
      "source": [
        "8. What are logical operators in Python?\n",
        "- Logical operators are used to preform logic operations (AND,OR,NOT are the logical operators in pyhton).\n",
        "- they always return value as true of flase based on truth table."
      ],
      "metadata": {
        "id": "Nq39-sM14Fbx"
      }
    },
    {
      "cell_type": "markdown",
      "source": [
        "9. What is type casting in Python?\n",
        "- Type casting means changing data type in python. It can be done explicitly or implicitly.\n",
        "- Explicit - we change it manually.\n",
        "- Implicit - when python change it automatically."
      ],
      "metadata": {
        "id": "GFdcE1KZ490a"
      }
    },
    {
      "cell_type": "markdown",
      "source": [
        "10.What is the difference between implicit and explicit type casting?\n",
        "- IMPLICIT\n",
        "  - pyhton does it automatically when an operation with different datatype is preformed.\n",
        "  - It avoid data loss and maintain compatibility between different data types.\n",
        "  - example - 6 + 7.35 = 13.35 (int converted to float)\n",
        "\n",
        "- Explicit Type Casting\n",
        "  - It is done manually using built-in type casting functions. It is used to convert data type forcefully as required.\n",
        "  - It uses functions like int(), float(), str(), list(), etc.\n",
        "  - Example - int(\"12345\") → 12345"
      ],
      "metadata": {
        "id": "g1s1gEiO5Qcp"
      }
    },
    {
      "cell_type": "markdown",
      "source": [
        "11. What is the purpose of conditional statements in Python?\n",
        "- Conditional statements in Python or in any other programming language allow a program to make decisions based on certain conditions. They control the flow of execution by running different code blocks depending on whether a condition is true or False."
      ],
      "metadata": {
        "id": "eXCuKeaM8Fuh"
      }
    },
    {
      "cell_type": "markdown",
      "source": [
        "12. How does the elif statement work?\n",
        "- elif is a contional statement. When if part is execute and condition given in if part is not true, then condition of elif (stands for else if) part is checked. If the condition of elif part is true then code block present inside elif contion is executed. If that contdition is also flase then code block inside else part is executed."
      ],
      "metadata": {
        "id": "fWSO3q3z8OBJ"
      }
    },
    {
      "cell_type": "markdown",
      "source": [
        "13. What is the difference between for and while loops?\n",
        "- for loop\n",
        "  - Used when the number of iterations is known beforehand.\n",
        "  - for loop preforms a task given number of times.\n",
        "- While loop\n",
        "  - Used when the number of iterations is unknown and depends on a condition.\n",
        "  - while loop preforms a task until the condition do not answer False or any break statement is executed."
      ],
      "metadata": {
        "id": "Xs6xcmlq8T0D"
      }
    },
    {
      "cell_type": "markdown",
      "source": [
        "14.  Describe a scenario where a while loop is more suitable than a for loop?\n",
        "- A while loop is more suitable than a for loop when the number of iterations is unknown beforehand and depends on a dynamic condition. For example -\n",
        "  - when entering data of employees, we don't know how many enteries we have to take because numer of employees can be chnaged. For loop is not suitable here because it takes enteris for fixed number of times. But while loop can vary according to condition."
      ],
      "metadata": {
        "id": "2zU0j3x48elr"
      }
    },
    {
      "cell_type": "markdown",
      "source": [
        "# Practical Questions"
      ],
      "metadata": {
        "id": "IrQy-Tyc5LLb"
      }
    },
    {
      "cell_type": "markdown",
      "source": [
        "1. Write a Python program to print \"Hello, World!"
      ],
      "metadata": {
        "id": "gZ6NX8lG5VJL"
      }
    },
    {
      "cell_type": "code",
      "source": [
        "print(\"Hello, World!\")"
      ],
      "metadata": {
        "id": "XdPiug1J5Z5H",
        "colab": {
          "base_uri": "https://localhost:8080/"
        },
        "outputId": "ca68f4ca-7a84-417f-a84e-f233d7dcbc9b"
      },
      "execution_count": null,
      "outputs": [
        {
          "output_type": "stream",
          "name": "stdout",
          "text": [
            "Hello, World!\n"
          ]
        }
      ]
    },
    {
      "cell_type": "markdown",
      "source": [
        "2. Write a Python program that displays your name and age."
      ],
      "metadata": {
        "id": "qpirb4hD5rWq"
      }
    },
    {
      "cell_type": "code",
      "source": [
        "name = input(\"Enter your name: \")\n",
        "age = int(input(\"Enter your age: \"))\n",
        "print(\"My name is\",name,\"\\nmy age is\",age)\n"
      ],
      "metadata": {
        "id": "amrabIr85v68",
        "colab": {
          "base_uri": "https://localhost:8080/"
        },
        "outputId": "34fbd956-b6e5-46b1-c883-cc76c744d731"
      },
      "execution_count": null,
      "outputs": [
        {
          "output_type": "stream",
          "name": "stdout",
          "text": [
            "Enter your name: ptk\n",
            "Enter your age: 20\n",
            "My name is ptk \n",
            "my age is 20\n"
          ]
        }
      ]
    },
    {
      "cell_type": "markdown",
      "source": [
        "3.Write code to print all the pre-defined keywords in Python using the keyword library?"
      ],
      "metadata": {
        "id": "4RNGt1E56ozD"
      }
    },
    {
      "cell_type": "code",
      "source": [
        "import keyword\n",
        "kwrd_lst = keyword.kwlist\n",
        "for i in kwrd_lst:\n",
        "  print(i)\n"
      ],
      "metadata": {
        "id": "4aLHohSV6r4t",
        "colab": {
          "base_uri": "https://localhost:8080/"
        },
        "outputId": "97e07cda-5b3c-4881-c4c5-dad42e66c462"
      },
      "execution_count": null,
      "outputs": [
        {
          "output_type": "stream",
          "name": "stdout",
          "text": [
            "False\n",
            "None\n",
            "True\n",
            "and\n",
            "as\n",
            "assert\n",
            "async\n",
            "await\n",
            "break\n",
            "class\n",
            "continue\n",
            "def\n",
            "del\n",
            "elif\n",
            "else\n",
            "except\n",
            "finally\n",
            "for\n",
            "from\n",
            "global\n",
            "if\n",
            "import\n",
            "in\n",
            "is\n",
            "lambda\n",
            "nonlocal\n",
            "not\n",
            "or\n",
            "pass\n",
            "raise\n",
            "return\n",
            "try\n",
            "while\n",
            "with\n",
            "yield\n"
          ]
        }
      ]
    },
    {
      "cell_type": "markdown",
      "source": [
        "4. Write a program that checks if a given word is a Python keyword."
      ],
      "metadata": {
        "id": "Pcmnue2v0GTW"
      }
    },
    {
      "cell_type": "code",
      "source": [
        "import keyword\n",
        "a = input(\"Enter a word: \")\n",
        "kwrd_lst = keyword.kwlist\n",
        "for i in kwrd_lst:\n",
        "  if a == i:\n",
        "    print(a,\"is a keyword\")\n",
        "    break\n",
        "else:\n",
        "  print(a,\"is not a keyword\")"
      ],
      "metadata": {
        "id": "tywjPzzm1lWh",
        "colab": {
          "base_uri": "https://localhost:8080/"
        },
        "outputId": "5265045b-05a5-4f11-da98-8af7ec52cd5e"
      },
      "execution_count": null,
      "outputs": [
        {
          "output_type": "stream",
          "name": "stdout",
          "text": [
            "Enter a word: hii\n",
            "hii is not a keyword\n"
          ]
        }
      ]
    },
    {
      "cell_type": "code",
      "source": [
        "a = input(\"Enter a word: \")\n",
        "if keyword.iskeyword(a):\n",
        "  print(a,\"is a keyword\")\n",
        "else:\n",
        "  print(a,\"is not a keyword\")"
      ],
      "metadata": {
        "id": "P2De3kkE0M3I",
        "colab": {
          "base_uri": "https://localhost:8080/"
        },
        "outputId": "f42c8bec-d272-4cf6-a815-8598687b2cfd"
      },
      "execution_count": null,
      "outputs": [
        {
          "output_type": "stream",
          "name": "stdout",
          "text": [
            "Enter a word: print\n",
            "print is not a keyword\n"
          ]
        }
      ]
    },
    {
      "cell_type": "markdown",
      "source": [
        "5. Create a list and tuple in Python, and demonstrate how attempting to change an element works differently\n",
        "for each"
      ],
      "metadata": {
        "id": "rQaPmrGj15Bz"
      }
    },
    {
      "cell_type": "code",
      "source": [
        "from binascii import Error\n",
        "lst = [\"Hello\",123,\"hi\"]\n",
        "print(lst)\n",
        "lst[0] = \"Bye\"\n",
        "print(lst)\n",
        "tup = (\"Hello\",123,\"hi\")\n",
        "print(tup)\n",
        "try:\n",
        "  tup[0] = \"Bye\"\n",
        "except TypeError as e:\n",
        "  print(e)\n"
      ],
      "metadata": {
        "id": "5y2uomOd2AFo",
        "colab": {
          "base_uri": "https://localhost:8080/"
        },
        "outputId": "1ceb71e1-2e30-4e46-fc8c-b9bc42cbd761"
      },
      "execution_count": null,
      "outputs": [
        {
          "output_type": "stream",
          "name": "stdout",
          "text": [
            "['Hello', 123, 'hi']\n",
            "['Bye', 123, 'hi']\n",
            "('Hello', 123, 'hi')\n",
            "'tuple' object does not support item assignment\n"
          ]
        }
      ]
    },
    {
      "cell_type": "markdown",
      "source": [
        "6. Write a function to demonstrate the behavior of mutable and immutable arguments."
      ],
      "metadata": {
        "id": "tDwNeQAj3uOf"
      }
    },
    {
      "cell_type": "code",
      "source": [
        "def modify_args(a_list, a_string, a_tuple):\n",
        "    a_list.append(4)\n",
        "    a_string += \" world\"\n",
        "    print(\"\\nInside function:\")\n",
        "    print(f\"Modified list: {a_list}\")\n",
        "    print(f\"Modified string: {a_string}\")\n",
        "    print(f\"Tuple remains: {a_tuple}\")\n",
        "\n",
        "\n",
        "original_list = [1, 2, 3]\n",
        "original_str = \"Hello\"\n",
        "original_tuple = (1, 2, 3)\n",
        "\n",
        "print(\"Before function call:\")\n",
        "print(f\"Original list: {original_list}\")\n",
        "print(\"Original string: \",original_str)\n",
        "print(f\"Original tuple: \",original_tuple)\n",
        "\n",
        "modify_args(original_list, original_str, original_tuple)\n",
        "\n",
        "print(\"\\nAfter function call:\")\n",
        "print(f\"Original list (mutated): {original_list}\")  # Changed!\n",
        "print(f\"Original string (unchanged): {original_str}\")  # Same as before\n",
        "print(f\"Original tuple (unchanged): {original_tuple}\")  # Same as before"
      ],
      "metadata": {
        "colab": {
          "base_uri": "https://localhost:8080/"
        },
        "id": "1-Aoc8sw6rk2",
        "outputId": "de68d37c-1946-4715-a4bd-6fbb7b755994"
      },
      "execution_count": null,
      "outputs": [
        {
          "output_type": "stream",
          "name": "stdout",
          "text": [
            "Before function call:\n",
            "Original list: [1, 2, 3]\n",
            "Original string:  Hello\n",
            "Original tuple:  (1, 2, 3)\n",
            "\n",
            "Inside function:\n",
            "Modified list: [1, 2, 3, 4]\n",
            "Modified string: Hello world\n",
            "Tuple remains: (1, 2, 3)\n",
            "\n",
            "After function call:\n",
            "Original list (mutated): [1, 2, 3, 4]\n",
            "Original string (unchanged): Hello\n",
            "Original tuple (unchanged): (1, 2, 3)\n"
          ]
        }
      ]
    },
    {
      "cell_type": "markdown",
      "source": [
        " 7. Write a program that performs basic arithmetic operations on two user-input numbers.\n"
      ],
      "metadata": {
        "id": "_Dda1vJf9CV2"
      }
    },
    {
      "cell_type": "code",
      "source": [
        "a = int(input(\"Enter 1st number: \"))\n",
        "b = int(input(\"Enter 2nd number: \"))\n",
        "print(\"Addition: \",a+b)\n",
        "print(\"Subtraction: \",a-b)\n",
        "print(\"Multiplication: \",a*b)\n",
        "print(\"division: \",a/b)"
      ],
      "metadata": {
        "colab": {
          "base_uri": "https://localhost:8080/"
        },
        "id": "Ip-4i88c9DNo",
        "outputId": "6cebef4b-0649-4b9b-c33d-ed86d96a68dc"
      },
      "execution_count": null,
      "outputs": [
        {
          "output_type": "stream",
          "name": "stdout",
          "text": [
            "Enter 1st number: 12\n",
            "Enter 2nd number: 23\n",
            "Addition:  35\n",
            "Subtraction:  -11\n",
            "Multiplication:  276\n",
            "division:  0.5217391304347826\n"
          ]
        }
      ]
    },
    {
      "cell_type": "markdown",
      "source": [
        "8. Write a program to demonstrate the use of logical operators.\n"
      ],
      "metadata": {
        "id": "T_SOEtzo9MXT"
      }
    },
    {
      "cell_type": "code",
      "source": [
        "input1 = input(\"Enter 'True' or 'False' for Condition 1: \").strip().lower() == \"true\"\n",
        "input2 = input(\"Enter 'True' or 'False' for Condition 2: \").strip().lower() == \"true\"\n",
        "and_result = input1 and input2\n",
        "or_result = input1 or input2\n",
        "not_result1 = not input1\n",
        "not_result2 = not input2\n",
        "print(f\"AND result: {and_result}\")\n",
        "print(f\"OR result: {or_result}\")\n",
        "print(f\"NOT result for Condition 1: {not_result1}\")\n",
        "print(f\"NOT result for Condition 2: {not_result2}\")"
      ],
      "metadata": {
        "colab": {
          "base_uri": "https://localhost:8080/"
        },
        "id": "DA3pAZML9Oxw",
        "outputId": "e58e85b4-147c-4e23-c0f7-a32e5762dd34"
      },
      "execution_count": null,
      "outputs": [
        {
          "output_type": "stream",
          "name": "stdout",
          "text": [
            "Enter 'True' or 'False' for Condition 1: true\n",
            "Enter 'True' or 'False' for Condition 2: false\n",
            "AND result: False\n",
            "OR result: True\n",
            "NOT result for Condition 1: False\n",
            "NOT result for Condition 2: True\n"
          ]
        }
      ]
    },
    {
      "cell_type": "markdown",
      "source": [
        "9. Write a Python program to convert user input from string to integer, float, and boolean types.\n"
      ],
      "metadata": {
        "id": "4_KOg-Iz9PSC"
      }
    },
    {
      "cell_type": "code",
      "source": [
        "a = input(\"Enter a number: \").strip()\n",
        "print(f\"original value {a}\")\n",
        "print(int(a))\n",
        "print(float(a))\n",
        "print(bool(a))"
      ],
      "metadata": {
        "colab": {
          "base_uri": "https://localhost:8080/"
        },
        "id": "wBse72p69R2K",
        "outputId": "2f7265d0-51e5-4df6-c60b-e9bb497dbb6d"
      },
      "execution_count": null,
      "outputs": [
        {
          "output_type": "stream",
          "name": "stdout",
          "text": [
            "Enter a number: 2\n",
            "original value 2\n",
            "2\n",
            "2.0\n",
            "True\n"
          ]
        }
      ]
    },
    {
      "cell_type": "markdown",
      "source": [
        "10. Write code to demonstrate type casting with list elements.\n"
      ],
      "metadata": {
        "id": "8502xfG09SSk"
      }
    },
    {
      "cell_type": "code",
      "source": [
        "def demonstrate_list_type_casting():\n",
        "    \"\"\"Convert list elements to different types with error handling.\"\"\"\n",
        "    original_list = [\"123\", \"45.6\", \"True\", \"hello\", \"0\", \"3.14\", \"False\"]\n",
        "    print(\"Original List:\", original_list)\n",
        "    int_list = []\n",
        "    for item in original_list:\n",
        "        try:\n",
        "            int_list.append(int(item))\n",
        "        except ValueError:\n",
        "            int_list.append(f\"Invalid (int): {item}\")\n",
        "    print(\"\\nAfter converting to int:\")\n",
        "    print(int_list)\n",
        "    float_list = []\n",
        "    for item in original_list:\n",
        "        try:\n",
        "            float_list.append(float(item))\n",
        "        except ValueError:\n",
        "            float_list.append(f\"Invalid (float): {item}\")\n",
        "    print(\"\\nAfter converting to float:\")\n",
        "    print(float_list)\n",
        "    bool_list = []\n",
        "    for item in original_list:\n",
        "        if item.lower() == \"true\":\n",
        "            bool_list.append(True)\n",
        "        elif item.lower() == \"false\":\n",
        "            bool_list.append(False)\n",
        "        else:\n",
        "            bool_list.append(bool(item))\n",
        "    print(\"\\nAfter converting to bool:\")\n",
        "    print(bool_list)\n",
        "    str_list = [str(item) for item in original_list]\n",
        "    print(\"\\nAfter converting to str:\")\n",
        "    print(str_list)\n",
        "demonstrate_list_type_casting()"
      ],
      "metadata": {
        "colab": {
          "base_uri": "https://localhost:8080/"
        },
        "id": "e15tdd7-9USO",
        "outputId": "d599744c-1973-4dcd-c817-a9dc00e74bde"
      },
      "execution_count": null,
      "outputs": [
        {
          "output_type": "stream",
          "name": "stdout",
          "text": [
            "Original List: ['123', '45.6', 'True', 'hello', '0', '3.14', 'False']\n",
            "\n",
            "After converting to int:\n",
            "[123, 'Invalid (int): 45.6', 'Invalid (int): True', 'Invalid (int): hello', 0, 'Invalid (int): 3.14', 'Invalid (int): False']\n",
            "\n",
            "After converting to float:\n",
            "[123.0, 45.6, 'Invalid (float): True', 'Invalid (float): hello', 0.0, 3.14, 'Invalid (float): False']\n",
            "\n",
            "After converting to bool:\n",
            "[True, True, True, True, True, True, False]\n",
            "\n",
            "After converting to str:\n",
            "['123', '45.6', 'True', 'hello', '0', '3.14', 'False']\n"
          ]
        }
      ]
    },
    {
      "cell_type": "markdown",
      "source": [
        "11. Write a program that checks if a number is positive, negative, or zero.\n"
      ],
      "metadata": {
        "id": "4KElAhwp9U1p"
      }
    },
    {
      "cell_type": "code",
      "source": [
        "a = int(input(\"Enter a number: \"))\n",
        "if a > 0:\n",
        "  print(a,\"is positive\")\n",
        "elif a < 0:\n",
        "  print(a,\"is negative\")\n",
        "else:\n",
        "  print(a,\"is zero\")"
      ],
      "metadata": {
        "colab": {
          "base_uri": "https://localhost:8080/"
        },
        "id": "PUvukit49XSx",
        "outputId": "ff4a7aff-2016-415b-9a94-f781d25e6474"
      },
      "execution_count": null,
      "outputs": [
        {
          "output_type": "stream",
          "name": "stdout",
          "text": [
            "Enter a number: 12\n",
            "12 is positive\n"
          ]
        }
      ]
    },
    {
      "cell_type": "markdown",
      "source": [
        " 12. Write a for loop to print numbers from 1 to 10.\n"
      ],
      "metadata": {
        "id": "Pqqes1Z09Xo4"
      }
    },
    {
      "cell_type": "code",
      "source": [
        "for i in range(1,11):\n",
        "  print(i)"
      ],
      "metadata": {
        "colab": {
          "base_uri": "https://localhost:8080/"
        },
        "id": "cFMPj4Cb9Z2F",
        "outputId": "ee5ecb8a-66cf-48cf-ceb2-993c09fa8de2"
      },
      "execution_count": null,
      "outputs": [
        {
          "output_type": "stream",
          "name": "stdout",
          "text": [
            "1\n",
            "2\n",
            "3\n",
            "4\n",
            "5\n",
            "6\n",
            "7\n",
            "8\n",
            "9\n",
            "10\n"
          ]
        }
      ]
    },
    {
      "cell_type": "markdown",
      "source": [
        " 13. Write a Python program to find the sum of all even numbers between 1 and 50.\n"
      ],
      "metadata": {
        "id": "5xENCqvG9aJm"
      }
    },
    {
      "cell_type": "code",
      "source": [
        "sum = 0\n",
        "for i in range(1,50): #1 and 50 are excluded\n",
        "  if i % 2 == 0:\n",
        "    sum = sum+i\n",
        "print(\"Sum of even numbers between 1 & 50 =  \",sum)"
      ],
      "metadata": {
        "colab": {
          "base_uri": "https://localhost:8080/"
        },
        "id": "RQbSqmtw9cNt",
        "outputId": "9c5a0c55-cbda-4c6c-b20b-0015856e1e4d"
      },
      "execution_count": null,
      "outputs": [
        {
          "output_type": "stream",
          "name": "stdout",
          "text": [
            "Sum of even numbers between 1 & 50 =   600\n"
          ]
        }
      ]
    },
    {
      "cell_type": "markdown",
      "source": [
        " 14. Write a program to reverse a string using a while loop.\n"
      ],
      "metadata": {
        "id": "QV6580-X9cng"
      }
    },
    {
      "cell_type": "code",
      "source": [
        "a = input(\"Enter a string: \").strip()\n",
        "b = \"\"\n",
        "i = len(a)-1\n",
        "while i >= 0:\n",
        "  b = b+a[i]\n",
        "  i = i-1\n",
        "print(b)"
      ],
      "metadata": {
        "colab": {
          "base_uri": "https://localhost:8080/"
        },
        "id": "zFhTv69q9eWw",
        "outputId": "fbcba957-e472-46ac-db6e-681fb4d2a038"
      },
      "execution_count": null,
      "outputs": [
        {
          "output_type": "stream",
          "name": "stdout",
          "text": [
            "Enter a string: hello\n",
            "olleh\n"
          ]
        }
      ]
    },
    {
      "cell_type": "markdown",
      "source": [
        " 15. Write a Python program to calculate the factorial of a number provided by the user using a while loop"
      ],
      "metadata": {
        "id": "_30_SbnI9evw"
      }
    },
    {
      "cell_type": "code",
      "source": [
        "a = int(input(\"Enter a number to find its factorial : \"))\n",
        "fact = 1\n",
        "for i in range (a):\n",
        "  fact = fact*(i+1)\n",
        "print(fact)"
      ],
      "metadata": {
        "colab": {
          "base_uri": "https://localhost:8080/"
        },
        "id": "5gehRI4K9f8G",
        "outputId": "ed2249c7-368b-403b-9803-87578592d5dc"
      },
      "execution_count": 45,
      "outputs": [
        {
          "output_type": "stream",
          "name": "stdout",
          "text": [
            "Enter a number to find its factorial : 5\n",
            "120\n"
          ]
        }
      ]
    }
  ]
}