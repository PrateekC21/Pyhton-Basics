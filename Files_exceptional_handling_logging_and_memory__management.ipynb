{
  "nbformat": 4,
  "nbformat_minor": 0,
  "metadata": {
    "colab": {
      "provenance": []
    },
    "kernelspec": {
      "name": "python3",
      "display_name": "Python 3"
    },
    "language_info": {
      "name": "python"
    }
  },
  "cells": [
    {
      "cell_type": "markdown",
      "source": [
        "1. What is the difference between interpreted and compiled languages?\n",
        "- Compiled Languages: The source code is translated into machine code by a program called a compiler before the program is run. This creates a separate executable file (e.g., an .exe file on Windows) that can be run directly by the computer's processor.\n",
        "- Examples: C, C++, Java, Go\n",
        "\n",
        "- Compiled Languages: The source code is translated into machine code by a program called a compiler before the program is run. This creates a separate executable file (e.g., an .exe file on Windows) that can be run directly by the computer's processor.\n",
        "- Examples: C, C++, Java, Go"
      ],
      "metadata": {
        "id": "UPhwOu0HPMr_"
      }
    },
    {
      "cell_type": "markdown",
      "source": [
        "2. What is exception handling in Python?\n",
        "- Exception handling is a mechanism to manage and respond to runtime errors in a program in a controlled way, preventing it from crashing. When an error occurs, Python creates an \"exception\" object. If not handled, the program stops\n",
        "- The core of exception handling uses a try...except block:\n",
        "\n",
        "  - try: You place the code that might cause an error inside the try block.\n",
        "  - except: If an error (exception) occurs in the try block, the code inside the  - corresponding except block is executed."
      ],
      "metadata": {
        "id": "9Cw5X0NIPh4g"
      }
    },
    {
      "cell_type": "markdown",
      "source": [
        "3. hat is the purpose of the finally block in exception handling?\n",
        "- The finally block is an optional part of exception handling. Its primary purpose is to execute cleanup code, regardless of whether an exception occurred in the try block or not. The code in the finally block is always executed before leaving the try...except structure."
      ],
      "metadata": {
        "id": "CQBjkxv_P0rl"
      }
    },
    {
      "cell_type": "markdown",
      "source": [
        "4. What is logging in Python?\n",
        "- Logging is a means of tracking events and diagnostic information that happen when a program runs. The logging module in Python provides a flexible framework for emitting log messages from applications.\n",
        "\n",
        "- Unlike using simple print() statements, logging provides several key features:\n",
        "\n",
        "  - Log Levels: You can categorize messages by severity (e.g., DEBUG, INFO, WARNING, ERROR, CRITICAL).\n",
        "\n",
        "  - Configurability: You can easily change the verbosity of the logging or where the logs are sent (e.g., to the console or a file) without modifying the application code.\n",
        "\n",
        "  - Contextual Information: Log records automatically contain information like the timestamp, module name, and line number where the log was issued."
      ],
      "metadata": {
        "id": "Kxl6fRYkQEhi"
      }
    },
    {
      "cell_type": "markdown",
      "source": [
        "5. What is the significance of the __del__ method in Python?\n",
        "- The __del__ method is a destructor in Python. It is automatically called when an object's reference count drops to zero, meaning it is about to be garbage collected (destroyed).\n",
        "\n",
        "- Its main significance is for an object to perform final cleanup tasks before it is removed from memory. For example, it could be used to close a connection that the object was managing.\n",
        "\n",
        "- However, its use is often discouraged for critical tasks because the timing of its execution is not guaranteed. For resource management like closing files, it is much safer and more explicit to use the with statement"
      ],
      "metadata": {
        "id": "cLA0xkjZQYcu"
      }
    },
    {
      "cell_type": "markdown",
      "source": [
        "6. What is the difference between import and from ... import in Python?\n",
        "- import brings the entire module into your script as a single object, while from ... import brings specific parts of the module directly into your current script's namespace."
      ],
      "metadata": {
        "id": "rJutjZ0aQuAZ"
      }
    },
    {
      "cell_type": "markdown",
      "source": [
        "7. How can you handle multiple exceptions in Python?\n",
        "- we can handle multiple exceptions in Python in two primary ways: by using separate except blocks for different exceptions or by grouping them into a single except block.\n",
        "\n",
        "\n",
        "8. What is the purpose of the with statement when handling files in Python?\n",
        "- The main purpose of the with statement is to guarantee that a file is automatically and safely closed once you're done with it, even if an error occurs.\n",
        "- It simplifies resource management by ensuring that cleanup actions are always performed, preventing common problems like resource leaks.\n",
        "\n",
        "\n",
        "9. What is the difference between multithreading and multiprocessing?\n",
        "- The main difference is that multithreading runs multiple threads within a single process (sharing memory), while multiprocessing runs completely separate processes, each with its own memory."
      ],
      "metadata": {
        "id": "ZIwM8CCIRbTL"
      }
    },
    {
      "cell_type": "markdown",
      "source": [
        "10. What are the advantages of using logging in a program?\n",
        "- Control over Verbosity: You can set different logging levels (DEBUG, INFO, ERROR, etc.) and easily configure your application to show only messages of a certain severity, without changing the code.\n",
        "\n",
        "- Flexibility in Output: Logs can be directed to multiple destinations simultaneously, such as the console, a file, or a network service, just by changing the configuration.\n",
        "\n",
        "- Diagnostic Information: Logs automatically include valuable context, such as the timestamp, the name of the module, and the line number where the event occurred.\n",
        "\n",
        "- Clean Code: It separates your diagnostic output from your application logic. You can leave detailed logging calls in your code and simply turn them off in a production environment.\n",
        "\n",
        "- Performance: The logging calls below the configured level have very little performance overhead, whereas print statements are always executed."
      ],
      "metadata": {
        "id": "A18KXYnlRDdX"
      }
    },
    {
      "cell_type": "markdown",
      "source": [
        "11. What is memory management in Python?\n",
        "- Memory management in Python is the process of allocating memory for objects and then deallocating (freeing) it when they are no longer needed. This process is automatic and handled by the Python Memory Manager. It uses a private heap to store all Python objects and structures, so the programmer doesn't have to manually manage memory allocation and cleanup, reducing the risk of common errors."
      ],
      "metadata": {
        "id": "BkPifWrHTp-P"
      }
    },
    {
      "cell_type": "markdown",
      "source": [
        "12. What are the basic steps involved in exception handling in Python?\n",
        "- Exception handling allows you to gracefully manage runtime errors. The basic steps follow a structured block:\n",
        "\n",
        "- try: You place the code that might cause an error inside the try block.\n",
        "\n",
        "- except: If an error occurs in the try block, the code inside a matching except block is executed. You can have multiple except blocks to handle different specific errors.\n",
        "\n",
        "- else (Optional): If no error occurs in the try block, the code inside the else block is executed.\n",
        "\n",
        "- finally (Optional): This block's code is always executed, whether an error occurred or not. It's typically used for cleanup actions, like closing a file."
      ],
      "metadata": {
        "id": "PV5N7ypDUNXD"
      }
    },
    {
      "cell_type": "markdown",
      "source": [
        "13. Why is memory management important in Python?\n",
        "- Even though Python's memory management is automatic, its importance is fundamental to a program's stability and efficiency. Proper memory management:\n",
        "\n",
        "- Prevents Memory Leaks: It ensures that memory is freed when objects are no longer in use. Without this, a program could slowly consume all available memory and crash.\n",
        "\n",
        "- Avoids Dangling Pointers: It prevents situations where a program tries to access memory that has already been freed, which can lead to unpredictable behavior and crashes.\n",
        "\n",
        "- Improves Performance: Efficient memory management reduces the overhead on the system, allowing the program to run more smoothly.\n",
        "\n"
      ],
      "metadata": {
        "id": "Y_PSdSKtQudG"
      }
    },
    {
      "cell_type": "markdown",
      "source": [
        "14. What is the role of try and except in exception handling?\n",
        "- The try and except blocks are the core components of exception handling in Python.\n",
        "\n",
        "- try Block : Its role is to enclose the segment of code that is \"risky\" or might raise an exception. It tells Python, \"Try to run this code, but be prepared for a potential error.\"\n",
        "\n",
        "- except Block : Its role is to define what to do if an error occurs. When an exception is raised in the try block, Python looks for an except block that matches the error type and executes the code within it. It's the program's contingency plan."
      ],
      "metadata": {
        "id": "B690iihvUiV4"
      }
    },
    {
      "cell_type": "markdown",
      "source": [
        "15.How does Python's garbage collection system work?\n",
        "- Python's garbage collection is primarily based on two mechanisms:\n",
        "\n",
        "- Reference Counting: This is the main method. Every object in memory has a counter that tracks how many references (variables) point to it. When a reference is created, the count increases. When a reference is removed, the count decreases. When the count drops to zero, the object is immediately deallocated from memory.\n",
        "\n",
        "- Generational Garbage Collector: Reference counting alone cannot clean up reference cycles (e.g., when object A points to object B, and B points back to A). To solve this, Python has a cyclic garbage collector that periodically runs to find and clean up these cycles."
      ],
      "metadata": {
        "id": "_WbN3UCiUsrQ"
      }
    },
    {
      "cell_type": "markdown",
      "source": [
        "16.What is the purpose of the else block in exception handling?\n",
        "- The else block is used to execute code that should run only if no exceptions were raised in the try block. Its main purpose is to improve code clarity by separating the \"success\" logic from the main code being monitored for errors. This makes it clear which part of your code depends on the successful execution of the try block."
      ],
      "metadata": {
        "id": "f__aoidMU211"
      }
    },
    {
      "cell_type": "markdown",
      "source": [
        "17. What are the common logging levels in Python?\n",
        "- Logging levels are used to categorize the severity of a log message. The standard levels, in increasing order of severity, are:\n",
        "\n",
        "- DEBUG: Detailed information, typically of interest only when diagnosing problems.\n",
        "\n",
        "- INFO: Confirmation that things are working as expected.\n",
        "\n",
        "- WARNING: An indication that something unexpected happened, but the software is still working as expected.\n",
        "\n",
        "- ERROR: Due to a more serious problem, the software has not been able to perform some function.\n",
        "\n",
        "- CRITICAL: A very serious error, indicating that the program itself may be unable to continue running."
      ],
      "metadata": {
        "id": "3nYi60xnU8Qm"
      }
    },
    {
      "cell_type": "markdown",
      "source": [
        "18. What is the difference between os.fork() and multiprocessing in Python?\n",
        "- The key difference is in their level of abstraction and portability.\n",
        "\n",
        "- os.fork(): This is a low-level, Unix-specific system call that creates a child process as an exact copy of the parent process. It's not available on Windows and requires manual management of the processes.\n",
        "\n",
        "- multiprocessing Module: This is a high-level, cross-platform Python library that provides a clean API to create and manage processes. Under the hood, it uses os.fork() on Unix systems but has an alternative mechanism for Windows, making your code portable. For most applications, the multiprocessing module is the recommended choice."
      ],
      "metadata": {
        "id": "kCbnsMjHVVUb"
      }
    },
    {
      "cell_type": "markdown",
      "source": [
        "19. What is the importance of closing a file in Python?\n",
        "- Closing a file is crucial for two main reasons:\n",
        "\n",
        "- Resource Management: File handles are a limited system resource. If you open many files without closing them, your program can run out of available handles and crash. Closing a file releases this resource back to the operating system.\n",
        "\n",
        "- Data Integrity: When you write to a file, the data is often held in a buffer in memory. The close() method ensures that all the data in the buffer is flushed (written) to the file on the disk. Forgetting to close a file can result in an incomplete or empty file."
      ],
      "metadata": {
        "id": "yAbLtltMVnm8"
      }
    },
    {
      "cell_type": "markdown",
      "source": [
        "20. What is the difference between file.read() and file.readline() in Python?\n",
        "- The difference lies in how much of the file they read at once.\n",
        "\n",
        "- file.read(): This method reads the entire content of the file into a single string. If you provide a number, like read(10), it will read that many bytes. Using read() on a very large file can consume a lot of memory.\n",
        "\n",
        "- file.readline(): This method reads just one single line from the file, including the newline character (\\n) at the end. It's memory-efficient for processing large files line by line.\n",
        "\n"
      ],
      "metadata": {
        "id": "6DBQ-17pVxu1"
      }
    },
    {
      "cell_type": "markdown",
      "source": [
        "21. What is the logging module in Python used for?\n",
        "- The logging module is used to record events, errors, and other diagnostic information that happens when a program runs. It is far more flexible than using print() statements because it allows you to:\n",
        "\n",
        "- Control the severity of messages to record (using logging levels).\n",
        "\n",
        "- Direct output to different places (e.g., the console, a file, or a network socket).\n",
        "\n",
        "- Include rich contextual information (like timestamps, module names, and line numbers)."
      ],
      "metadata": {
        "id": "rAhpA1wbZI66"
      }
    },
    {
      "cell_type": "markdown",
      "source": [
        "22. What is the os module in Python used for in file handling?\n",
        "- The os module provides a way to interact with the operating system's file system. It's not used for reading or writing the contents of a file, but for performing file and directory management tasks, such as:\n",
        "\n",
        "- Renaming a file (os.rename())\n",
        "\n",
        "- Deleting a file (os.remove())\n",
        "\n",
        "- Creating a directory (os.mkdir())\n",
        "\n",
        "- Listing directory contents (os.listdir())\n",
        "\n",
        "- Checking if a file or path exists (os.path.exists())"
      ],
      "metadata": {
        "id": "iZwi4kGOZJ2T"
      }
    },
    {
      "cell_type": "markdown",
      "source": [
        "23. What are the challenges associated with memory management in Python?\n",
        "- While Python's memory management is automatic, some challenges remain:\n",
        "\n",
        "- Reference Cycles: As mentioned, these can cause memory leaks if not handled by the garbage collector, and creating complex object relationships can still be problematic.\n",
        "\n",
        "- Performance Overhead: The continuous process of reference counting and running the garbage collector adds a small but constant overhead to the program's execution.\n",
        "\n",
        "- Memory Bloat: High-level Python objects can sometimes use more memory than expected, especially when dealing with large datasets, requiring careful coding practices to manage."
      ],
      "metadata": {
        "id": "S8MrnNvCZV6-"
      }
    },
    {
      "cell_type": "markdown",
      "source": [
        "24. How do you raise an exception manually in Python?\n",
        "- We can raise an exception manually using the raise keyword. This is useful when you detect an error condition in your code (e.g., invalid user input) and want to trigger the exception handling mechanism."
      ],
      "metadata": {
        "id": "Y9_lWg3QZhsK"
      }
    },
    {
      "cell_type": "markdown",
      "source": [
        "25. Why is it important to use multithreading in certain applications?\n",
        "- Multithreading is important because it allows a program to perform multiple tasks concurrently, leading to significant improvements in performance and user experience in specific scenarios:\n",
        "\n",
        "- Responsiveness: In applications with a graphical user interface (GUI), long-running tasks can be moved to a background thread. This prevents the main UI thread from freezing, keeping the application responsive to user input.\n",
        "\n",
        "- I/O-Bound Tasks: For programs that spend a lot of time waiting for input/output operations (like network requests, database queries, or disk reads), multithreading is highly effective. While one thread is waiting, the Python interpreter can switch to another thread to do useful work."
      ],
      "metadata": {
        "id": "-H_6pzmfVLpM"
      }
    },
    {
      "cell_type": "markdown",
      "source": [
        "#Practical question"
      ],
      "metadata": {
        "id": "Pd3AGH7C7J_A"
      }
    },
    {
      "cell_type": "markdown",
      "source": [
        "1. How can you open a file for writing in Python and write a string to it?"
      ],
      "metadata": {
        "id": "9d4xjVBE7TLN"
      }
    },
    {
      "cell_type": "code",
      "source": [
        "content_to_write = (\n",
        "    \"Hello from Jabalpur!\\n\"\n",
        "    \"This file was created by Prateek.\\n\"\n",
        ")\n",
        "file_name = \"output.txt\"\n",
        "try:\n",
        "    with open(file_name, 'w') as file:\n",
        "        file.write(content_to_write)\n",
        "    print(f\"Successfully wrote content to '{file_name}'.\")\n",
        "\n",
        "except IOError as e:\n",
        "    print(f\"An error occurred while writing to the file: {e}\")"
      ],
      "metadata": {
        "id": "k3roNTvd7Vfv",
        "colab": {
          "base_uri": "https://localhost:8080/"
        },
        "outputId": "90fe285c-4b6d-4a7e-cbba-54540fea6190"
      },
      "execution_count": 4,
      "outputs": [
        {
          "output_type": "stream",
          "name": "stdout",
          "text": [
            "Successfully wrote content to 'output.txt'.\n"
          ]
        }
      ]
    },
    {
      "cell_type": "markdown",
      "source": [
        "2. Write a Python program to read the contents of a file and print each line?"
      ],
      "metadata": {
        "id": "yM3Vt6f3cqmj"
      }
    },
    {
      "cell_type": "code",
      "source": [
        " with open(\"output.txt\", \"r\") as file:\n",
        "    lines = file.readlines()\n",
        "    for line in lines:\n",
        "        print(line)"
      ],
      "metadata": {
        "colab": {
          "base_uri": "https://localhost:8080/"
        },
        "id": "Owk7EgMUcp6q",
        "outputId": "442c1dfe-aa39-4bbd-f50c-2a321d0381c6"
      },
      "execution_count": 5,
      "outputs": [
        {
          "output_type": "stream",
          "name": "stdout",
          "text": [
            "Hello from Jabalpur!\n",
            "\n",
            "This file was created by Prateek.\n",
            "\n"
          ]
        }
      ]
    },
    {
      "cell_type": "markdown",
      "source": [
        "3. How would you handle a case where the file doesn't exist while trying to open it for reading?"
      ],
      "metadata": {
        "id": "t3gOxHaYopM3"
      }
    },
    {
      "cell_type": "code",
      "source": [
        "try:\n",
        "    with open(\"example.txt\", \"r\") as file:\n",
        "        content = file.read()\n",
        "        print(\"File contents:\\n\", content)\n",
        "\n",
        "except FileNotFoundError:\n",
        "    print(\"Error: The file you are trying to read does not exist.\")\n",
        "\n",
        "except Exception as e:\n",
        "    print(\"An unexpected error occurred:\", e)\n"
      ],
      "metadata": {
        "colab": {
          "base_uri": "https://localhost:8080/"
        },
        "id": "sth4yzpooohn",
        "outputId": "809b85b0-7b5d-4abe-9738-775ca0bd7880"
      },
      "execution_count": 6,
      "outputs": [
        {
          "output_type": "stream",
          "name": "stdout",
          "text": [
            "Error: The file you are trying to read does not exist.\n"
          ]
        }
      ]
    },
    {
      "cell_type": "markdown",
      "source": [
        "4. Python script to read from one file and write its content to another?"
      ],
      "metadata": {
        "id": "SLto0tgSpq2K"
      }
    },
    {
      "cell_type": "code",
      "source": [
        "try:\n",
        "    # Open source file in read mode\n",
        "    with open(\"output.txt\", \"r\") as src:\n",
        "        content = src.read()\n",
        "\n",
        "    # Open destination file in write mode\n",
        "    with open(\"destination.txt\", \"w\") as dest:\n",
        "        dest.write(content)\n",
        "\n",
        "    print(\"File copied successfully!\")\n",
        "\n",
        "except FileNotFoundError:\n",
        "    print(\"Error: The source file does not exist.\")\n",
        "\n",
        "except Exception as e:\n",
        "    print(\"An unexpected error occurred:\", e)\n"
      ],
      "metadata": {
        "colab": {
          "base_uri": "https://localhost:8080/"
        },
        "id": "VEg7nuHwpK3w",
        "outputId": "948007a6-f851-4eea-b653-5379035b99f1"
      },
      "execution_count": 8,
      "outputs": [
        {
          "output_type": "stream",
          "name": "stdout",
          "text": [
            "File copied successfully!\n"
          ]
        }
      ]
    },
    {
      "cell_type": "markdown",
      "source": [
        "5. How would you catch and handle division by zero error in Python?"
      ],
      "metadata": {
        "id": "eAWruc8vpxIc"
      }
    },
    {
      "cell_type": "code",
      "source": [
        "try:\n",
        "    numerator = int(input(\"Enter numerator: \"))\n",
        "    denominator = int(input(\"Enter denominator: \"))\n",
        "\n",
        "    result = numerator / denominator\n",
        "    print(\"Result:\", result)\n",
        "\n",
        "except ZeroDivisionError:\n",
        "    print(\"Error: Cannot divide by zero.\")\n",
        "\n",
        "except ValueError:\n",
        "    print(\"Error: Please enter valid integers.\")\n",
        "\n",
        "except Exception as e:\n",
        "    print(\"An unexpected error occurred:\", e)\n"
      ],
      "metadata": {
        "colab": {
          "base_uri": "https://localhost:8080/"
        },
        "id": "ZPP_s2yfphHQ",
        "outputId": "6ec35b4b-e92a-41c0-e565-7041f2cd3af2"
      },
      "execution_count": 9,
      "outputs": [
        {
          "output_type": "stream",
          "name": "stdout",
          "text": [
            "Enter numerator: 10\n",
            "Enter denominator: 0\n",
            "Error: Cannot divide by zero.\n"
          ]
        }
      ]
    },
    {
      "cell_type": "markdown",
      "source": [
        "6.  Write a Python program that logs an error message to a log file when a division by zero exception occurs?"
      ],
      "metadata": {
        "id": "P0G-SHI1qBrZ"
      }
    },
    {
      "cell_type": "code",
      "source": [
        "import logging\n",
        "\n",
        "# Configure logging\n",
        "logging.basicConfig(\n",
        "    filename=\"app.log\",        # Log file name\n",
        "    level=logging.ERROR,       # Minimum level to log\n",
        "    format=\"%(asctime)s - %(levelname)s - %(message)s\"\n",
        ")\n",
        "\n",
        "try:\n",
        "    num = int(input(\"Enter numerator: \"))\n",
        "    den = int(input(\"Enter denominator: \"))\n",
        "    result = num / den\n",
        "    print(\"Result:\", result)\n",
        "\n",
        "except ZeroDivisionError:\n",
        "    logging.error(\"Division by zero attempted.\")\n",
        "    print(\"Error: Cannot divide by zero. Check app.log for details.\")\n"
      ],
      "metadata": {
        "colab": {
          "base_uri": "https://localhost:8080/"
        },
        "id": "BI_wbb0PqTA8",
        "outputId": "9f9cd8f2-4e32-4929-db41-85d575d03d5a"
      },
      "execution_count": 10,
      "outputs": [
        {
          "name": "stdout",
          "output_type": "stream",
          "text": [
            "Enter numerator: 100\n",
            "Enter denominator: 0\n"
          ]
        },
        {
          "output_type": "stream",
          "name": "stderr",
          "text": [
            "ERROR:root:Division by zero attempted.\n"
          ]
        },
        {
          "output_type": "stream",
          "name": "stdout",
          "text": [
            "Error: Cannot divide by zero. Check app.log for details.\n"
          ]
        }
      ]
    },
    {
      "cell_type": "markdown",
      "source": [
        "7. How do you log information at different levels (INFO, ERROR, WARNING) in Python using the logging module?"
      ],
      "metadata": {
        "id": "vk3Z3nPSqjoQ"
      }
    },
    {
      "cell_type": "code",
      "source": [
        "import logging\n",
        "logging.basicConfig(\n",
        "    filename=\"app.log\",\n",
        "    level=logging.DEBUG,\n",
        "    format=\"%(asctime)s - %(levelname)s - %(message)s\"\n",
        ")\n",
        "\n",
        "logging.debug(\"This is a DEBUG message (for debugging).\")\n",
        "logging.info(\"This is an INFO message (general info).\")\n",
        "logging.warning(\"This is a WARNING message (something odd happened).\")\n",
        "logging.error(\"This is an ERROR message (something went wrong).\")\n",
        "logging.critical(\"This is a CRITICAL message (system is crashing!).\")\n"
      ],
      "metadata": {
        "colab": {
          "base_uri": "https://localhost:8080/"
        },
        "id": "eZyw-VXgqfXv",
        "outputId": "94ebe0ab-76f0-4f0b-ac7d-72deb67d2323"
      },
      "execution_count": 11,
      "outputs": [
        {
          "output_type": "stream",
          "name": "stderr",
          "text": [
            "WARNING:root:This is a WARNING message (something odd happened).\n",
            "ERROR:root:This is an ERROR message (something went wrong).\n",
            "CRITICAL:root:This is a CRITICAL message (system is crashing!).\n"
          ]
        }
      ]
    },
    {
      "cell_type": "markdown",
      "source": [
        "8.  Write a program to handle a file opening error using exception handling?"
      ],
      "metadata": {
        "id": "3YxtNKMOqxck"
      }
    },
    {
      "cell_type": "code",
      "source": [
        "try:\n",
        "    # Try to open a file for reading\n",
        "    with open(\"myfile.txt\", \"r\") as file:\n",
        "        content = file.read()\n",
        "        print(\"File contents:\\n\", content)\n",
        "\n",
        "except FileNotFoundError:\n",
        "    # Handle specific file not found error\n",
        "    print(\"Error: The file you are trying to open does not exist.\")\n",
        "\n",
        "except PermissionError:\n",
        "    # Handle case where permission is denied\n",
        "    print(\"Error: You do not have permission to access this file.\")\n",
        "\n",
        "except Exception as e:\n",
        "    # Handle any other kind of error\n",
        "    print(\"An unexpected error occurred:\", e)\n"
      ],
      "metadata": {
        "colab": {
          "base_uri": "https://localhost:8080/"
        },
        "id": "rXj1XlASqw6r",
        "outputId": "3bdf3b36-2219-4d43-aa10-5abc413e85e7"
      },
      "execution_count": 14,
      "outputs": [
        {
          "output_type": "stream",
          "name": "stdout",
          "text": [
            "Error: The file you are trying to open does not exist.\n"
          ]
        }
      ]
    },
    {
      "cell_type": "markdown",
      "source": [
        "9. How can you read a file line by line and store its content in a list in Python?"
      ],
      "metadata": {
        "id": "eQeI-L0kqx_6"
      }
    },
    {
      "cell_type": "code",
      "source": [
        "with open(\"output.txt\", \"r\") as file:\n",
        "    lines = file.readlines()\n",
        "\n",
        "# Remove newline characters (\\n) if needed\n",
        "lines = [line.strip() for line in lines]\n",
        "\n",
        "print(lines)\n"
      ],
      "metadata": {
        "colab": {
          "base_uri": "https://localhost:8080/"
        },
        "id": "HMbn8ZXFqyYv",
        "outputId": "08cf3a35-79d8-4ac2-d8b3-b90b610fcccf"
      },
      "execution_count": 13,
      "outputs": [
        {
          "output_type": "stream",
          "name": "stdout",
          "text": [
            "['Hello from Jabalpur!', 'This file was created by Prateek.']\n"
          ]
        }
      ]
    },
    {
      "cell_type": "markdown",
      "source": [
        "10. How can you append data to an existing file in Python?"
      ],
      "metadata": {
        "id": "inOJJnSMrt1k"
      }
    },
    {
      "cell_type": "code",
      "source": [
        "\n",
        "with open(\"output.txt\", \"a\") as file:\n",
        "    file.write(\"This is a new line of text.\\n\")\n",
        "\n",
        "print(\"Data appended successfully!\")\n"
      ],
      "metadata": {
        "colab": {
          "base_uri": "https://localhost:8080/"
        },
        "id": "LWNZmSf1rta9",
        "outputId": "83e0a2a3-6e7a-4b91-927d-12a79e731dae"
      },
      "execution_count": 15,
      "outputs": [
        {
          "output_type": "stream",
          "name": "stdout",
          "text": [
            "Data appended successfully!\n"
          ]
        }
      ]
    },
    {
      "cell_type": "markdown",
      "source": [
        "11. Write a Python program that uses a try-except block to handle an error when attempting to access a\n",
        "dictionary key that doesn't exist?"
      ],
      "metadata": {
        "id": "FYoETJ82sFjT"
      }
    },
    {
      "cell_type": "code",
      "source": [
        "# Program to handle missing dictionary key\n",
        "data = {\"name\": \"Isha\", \"age\": 20}\n",
        "\n",
        "try:\n",
        "    print(\"City:\", data[\"city\"])\n",
        "except KeyError:\n",
        "    print(\"Error: Key 'city' does not exist in the dictionary.\")\n"
      ],
      "metadata": {
        "colab": {
          "base_uri": "https://localhost:8080/"
        },
        "id": "EPiWut-msGCl",
        "outputId": "6d7e82b5-5353-48d3-8a54-5fb56c374840"
      },
      "execution_count": 16,
      "outputs": [
        {
          "output_type": "stream",
          "name": "stdout",
          "text": [
            "Error: Key 'city' does not exist in the dictionary.\n"
          ]
        }
      ]
    },
    {
      "cell_type": "markdown",
      "source": [
        "12. Write a program that demonstrates using multiple except blocks to handle different types of exceptions?\n",
        ""
      ],
      "metadata": {
        "id": "UYzrnnHJs3is"
      }
    },
    {
      "cell_type": "code",
      "source": [
        "try:\n",
        "    num = int(input(\"Enter a number: \"))\n",
        "    result = 10 / num\n",
        "    print(\"Result:\", result)\n",
        "\n",
        "except ZeroDivisionError:\n",
        "    print(\"Error: Cannot divide by zero.\")\n",
        "\n",
        "except ValueError:\n",
        "    print(\"Error: Invalid input, please enter a number.\")\n",
        "\n",
        "except Exception as e:\n",
        "    print(\"Unexpected error:\", e)"
      ],
      "metadata": {
        "colab": {
          "base_uri": "https://localhost:8080/"
        },
        "id": "2UcmXrFKs3FS",
        "outputId": "e433f560-9d72-43a6-bd82-2eb43f6d152a"
      },
      "execution_count": 17,
      "outputs": [
        {
          "output_type": "stream",
          "name": "stdout",
          "text": [
            "Enter a number: 100\n",
            "Result: 0.1\n"
          ]
        }
      ]
    },
    {
      "cell_type": "markdown",
      "source": [
        "13. How would you check if a file exists before attempting to read it in Python\n",
        ""
      ],
      "metadata": {
        "id": "5odOqnNFtBN7"
      }
    },
    {
      "cell_type": "code",
      "source": [
        "import os\n",
        "\n",
        "filename = \"example.txt\"\n",
        "\n",
        "if os.path.exists(filename):\n",
        "    with open(filename, \"r\") as file:\n",
        "        print(file.read())\n",
        "else:\n",
        "    print(\"Error: File does not exist.\")\n"
      ],
      "metadata": {
        "colab": {
          "base_uri": "https://localhost:8080/"
        },
        "id": "yO69fRmXtAr_",
        "outputId": "346edbd7-fb72-479f-8c70-7bfeee08f536"
      },
      "execution_count": 18,
      "outputs": [
        {
          "output_type": "stream",
          "name": "stdout",
          "text": [
            "Error: File does not exist.\n"
          ]
        }
      ]
    },
    {
      "cell_type": "markdown",
      "source": [
        "14. Write a program that uses the logging module to log both informational and error messages?"
      ],
      "metadata": {
        "id": "7MRdoY6FtGEL"
      }
    },
    {
      "cell_type": "code",
      "source": [
        "import logging\n",
        "\n",
        "logging.basicConfig(\n",
        "    filename=\"app.log\",\n",
        "    level=logging.INFO,\n",
        "    format=\"%(asctime)s - %(levelname)s - %(message)s\"\n",
        ")\n",
        "\n",
        "logging.info(\"Program started successfully.\")\n",
        "try:\n",
        "    x = 10 / 0\n",
        "except ZeroDivisionError:\n",
        "    logging.error(\"Division by zero occurred.\")\n"
      ],
      "metadata": {
        "colab": {
          "base_uri": "https://localhost:8080/"
        },
        "id": "1ttXwEwrtJmV",
        "outputId": "77b40bbd-e761-4be1-a5a3-e7160431409b"
      },
      "execution_count": 19,
      "outputs": [
        {
          "output_type": "stream",
          "name": "stderr",
          "text": [
            "ERROR:root:Division by zero occurred.\n"
          ]
        }
      ]
    },
    {
      "cell_type": "markdown",
      "source": [
        "15. Write a Python program that prints the content of a file and handles the case when the file is empty?"
      ],
      "metadata": {
        "id": "Qzy-8zVbtKCu"
      }
    },
    {
      "cell_type": "code",
      "source": [
        "filename = \"output.txt\"\n",
        "\n",
        "try:\n",
        "    with open(filename, \"r\") as file:\n",
        "        content = file.read()\n",
        "        if content.strip() == \"\":\n",
        "            print(\"The file is empty.\")\n",
        "        else:\n",
        "            print(\"File contents:\\n\", content)\n",
        "except FileNotFoundError:\n",
        "    print(\"Error: File not found.\")\n"
      ],
      "metadata": {
        "colab": {
          "base_uri": "https://localhost:8080/"
        },
        "id": "qmIMg9ybtOye",
        "outputId": "6ec8b475-99b4-42c2-900a-647799c71dd8"
      },
      "execution_count": 21,
      "outputs": [
        {
          "output_type": "stream",
          "name": "stdout",
          "text": [
            "File contents:\n",
            " Hello from Jabalpur!\n",
            "This file was created by Prateek.\n",
            "This is a new line of text.\n",
            "\n"
          ]
        }
      ]
    },
    {
      "cell_type": "markdown",
      "source": [
        "16. Demonstrate how to use memory profiling to check the memory usage of a small program?\n"
      ],
      "metadata": {
        "id": "b9OaHYZRtPS_"
      }
    },
    {
      "cell_type": "code",
      "source": [
        "# Install memory-profiler:\n",
        "!pip install memory-profiler\n",
        "from memory_profiler import profile\n",
        "\n",
        "@profile\n",
        "def create_list():\n",
        "    data = [i for i in range(10000)]\n",
        "    return data\n",
        "\n",
        "if __name__ == \"__main__\":\n",
        "    create_list()\n"
      ],
      "metadata": {
        "colab": {
          "base_uri": "https://localhost:8080/"
        },
        "id": "u9R49639tT92",
        "outputId": "b5ef625c-a3b1-4742-e9e3-46606ff2ce65"
      },
      "execution_count": 24,
      "outputs": [
        {
          "output_type": "stream",
          "name": "stdout",
          "text": [
            "Collecting memory-profiler\n",
            "  Downloading memory_profiler-0.61.0-py3-none-any.whl.metadata (20 kB)\n",
            "Requirement already satisfied: psutil in /usr/local/lib/python3.12/dist-packages (from memory-profiler) (5.9.5)\n",
            "Downloading memory_profiler-0.61.0-py3-none-any.whl (31 kB)\n",
            "Installing collected packages: memory-profiler\n",
            "Successfully installed memory-profiler-0.61.0\n",
            "ERROR: Could not find file /tmp/ipython-input-953203731.py\n"
          ]
        }
      ]
    },
    {
      "cell_type": "markdown",
      "source": [
        "17.  Write a Python program to create and write a list of numbers to a file, one number per line?"
      ],
      "metadata": {
        "id": "M3ECAvVutUVz"
      }
    },
    {
      "cell_type": "code",
      "source": [
        "numbers = [1, 2, 3, 4, 5]\n",
        "\n",
        "with open(\"numbers.txt\", \"w\") as file:\n",
        "    for num in numbers:\n",
        "        file.write(str(num) + \"\\n\")\n",
        "\n",
        "print(\"Numbers written to file successfully.\")\n"
      ],
      "metadata": {
        "colab": {
          "base_uri": "https://localhost:8080/"
        },
        "id": "FQOYhtEdtYn7",
        "outputId": "38e1f37a-f39e-480f-a2a8-6a0faaf2c3c0"
      },
      "execution_count": 23,
      "outputs": [
        {
          "output_type": "stream",
          "name": "stdout",
          "text": [
            "Numbers written to file successfully.\n"
          ]
        }
      ]
    },
    {
      "cell_type": "markdown",
      "source": [
        "18. How would you implement a basic logging setup that logs to a file with rotation after 1MB?"
      ],
      "metadata": {
        "id": "RP57fE4UtahE"
      }
    },
    {
      "cell_type": "code",
      "source": [
        "import logging\n",
        "from logging.handlers import RotatingFileHandler\n",
        "handler = RotatingFileHandler(\"app.log\", maxBytes=1_000_000, backupCount=3)\n",
        "logging.basicConfig(\n",
        "    handlers=[handler],\n",
        "    level=logging.INFO,\n",
        "    format=\"%(asctime)s - %(levelname)s - %(message)s\"\n",
        ")\n",
        "\n",
        "logging.info(\"Rotating log example started.\")\n"
      ],
      "metadata": {
        "id": "x_mcoe2LtY-_"
      },
      "execution_count": null,
      "outputs": []
    },
    {
      "cell_type": "markdown",
      "source": [
        "19. Write a program that handles both IndexError and KeyError using a try-except block?"
      ],
      "metadata": {
        "id": "QEDUiPNnthTp"
      }
    },
    {
      "cell_type": "code",
      "source": [
        "data = {\"name\": \"Alice\"}\n",
        "my_list = [10, 20, 30]\n",
        "\n",
        "try:\n",
        "    print(data[\"age\"])     # KeyError\n",
        "    print(my_list[5])      # IndexError\n",
        "\n",
        "except KeyError:\n",
        "    print(\"Error: Dictionary key not found.\")\n",
        "\n",
        "except IndexError:\n",
        "    print(\"Error: List index out of range.\")\n"
      ],
      "metadata": {
        "colab": {
          "base_uri": "https://localhost:8080/"
        },
        "id": "kv49azcgtY9J",
        "outputId": "60a7c425-daff-457b-da4b-2575a6da1b2f"
      },
      "execution_count": 25,
      "outputs": [
        {
          "output_type": "stream",
          "name": "stdout",
          "text": [
            "Error: Dictionary key not found.\n"
          ]
        }
      ]
    },
    {
      "cell_type": "markdown",
      "source": [
        "20. How would you open a file and read its contents using a context manager in Python?"
      ],
      "metadata": {
        "id": "Nbnqe37Ftplu"
      }
    },
    {
      "cell_type": "code",
      "source": [
        "filename = \"output.txt\"\n",
        "\n",
        "try:\n",
        "    with open(filename, \"r\") as file:\n",
        "        content = file.read()\n",
        "        print(content)\n",
        "except FileNotFoundError:\n",
        "    print(\"Error: File not found.\")\n"
      ],
      "metadata": {
        "colab": {
          "base_uri": "https://localhost:8080/"
        },
        "id": "EXBjNHkKtuwf",
        "outputId": "c3ae1721-3b4d-438e-8d86-60b74acd85f9"
      },
      "execution_count": 28,
      "outputs": [
        {
          "output_type": "stream",
          "name": "stdout",
          "text": [
            "Hello from Jabalpur!\n",
            "This file was created by Prateek.\n",
            "This is a new line of text.\n",
            "\n"
          ]
        }
      ]
    },
    {
      "cell_type": "markdown",
      "source": [
        "21.  Write a Python program that reads a file and prints the number of occurrences of a specific word?"
      ],
      "metadata": {
        "id": "BtDpeUcStv_z"
      }
    },
    {
      "cell_type": "code",
      "source": [
        "filename = \"output.txt\"\n",
        "word = \"Python\"\n",
        "\n",
        "try:\n",
        "    with open(filename, \"r\") as file:\n",
        "        content = file.read().lower()\n",
        "        count = content.count(word.lower())\n",
        "        print(f\"The word '{word}' occurs {count} times in the file.\")\n",
        "except FileNotFoundError:\n",
        "    print(\"Error: File not found.\")\n"
      ],
      "metadata": {
        "id": "3JCPekDIv1xI"
      },
      "execution_count": null,
      "outputs": []
    },
    {
      "cell_type": "markdown",
      "source": [
        "22. How can you check if a file is empty before attempting to read its contents?\n",
        ""
      ],
      "metadata": {
        "id": "bGOfXvhuvTCF"
      }
    },
    {
      "cell_type": "code",
      "source": [
        "import os\n",
        "filename = \"example.txt\"\n",
        "\n",
        "if os.path.exists(filename):\n",
        "    if os.stat(filename).st_size == 0:\n",
        "        print(\"The file is empty.\")\n",
        "    else:\n",
        "        with open(filename, \"r\") as file:\n",
        "            print(file.read())\n",
        "else:\n",
        "    print(\"Error: File does not exist.\")\n"
      ],
      "metadata": {
        "id": "Zmw3j2_Xvv10"
      },
      "execution_count": null,
      "outputs": []
    },
    {
      "cell_type": "markdown",
      "source": [
        "23. Write a Python program that writes to a log file when an error occurs during file handling?"
      ],
      "metadata": {
        "id": "iMPcISrqvwnF"
      }
    },
    {
      "cell_type": "code",
      "source": [
        "import logging\n",
        "\n",
        "logging.basicConfig(\n",
        "    filename=\"file_errors.log\",\n",
        "    level=logging.ERROR,\n",
        "    format=\"%(asctime)s - %(levelname)s - %(message)s\"\n",
        ")\n",
        "\n",
        "filename = \"unknown.txt\"\n",
        "\n",
        "try:\n",
        "    with open(filename, \"r\") as file:\n",
        "        print(file.read())\n",
        "except Exception as e:\n",
        "    logging.error(\"File handling error: %s\", e)\n",
        "    print(\"An error occurred. Check file_errors.log for details.\")\n"
      ],
      "metadata": {
        "id": "v9ipAp98vwTA"
      },
      "execution_count": null,
      "outputs": []
    }
  ]
}