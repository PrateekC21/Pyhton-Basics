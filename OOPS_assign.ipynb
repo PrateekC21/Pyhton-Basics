{
  "nbformat": 4,
  "nbformat_minor": 0,
  "metadata": {
    "colab": {
      "provenance": []
    },
    "kernelspec": {
      "name": "python3",
      "display_name": "Python 3"
    },
    "language_info": {
      "name": "python"
    }
  },
  "cells": [
    {
      "cell_type": "markdown",
      "source": [
        "#THEORY QUESTIONS"
      ],
      "metadata": {
        "id": "w9INjUrrYLca"
      }
    },
    {
      "cell_type": "markdown",
      "source": [
        "1.  What is Object-Oriented Programming (OOP)?\n",
        "- Object-Oriented Programming (OOP) is a programming paradigm based on the concept of objects, which represent real-world entities.\n",
        "- It allows us to model data (attributes) and behavior (methods) together, making our code modular, reusable, scalable, and easy to maintain.\n",
        "- There are four pillars of OOP :\n",
        "  - Encapsulation\n",
        "  - Inheritance\n",
        "  - Polymorphism\n",
        "  - Abstraction\n"
      ],
      "metadata": {
        "id": "nvO5uZpBx_Wx"
      }
    },
    {
      "cell_type": "markdown",
      "source": [
        "2. What is a class in OOP?\n",
        "- A class in OOP is a user-defined blueprint or template that defines the data (attributes) and behaviors (methods) of objects.\n",
        "\n",
        "- Objects are instances of a class."
      ],
      "metadata": {
        "id": "Xk_vtvT-zEdA"
      }
    },
    {
      "cell_type": "markdown",
      "source": [
        "3. What is an object in OOP?\n",
        "- An object in OOP is an instance of a class that contains data (attributes) and behaviors (methods) defined by the class."
      ],
      "metadata": {
        "id": "VRiywd1z1tad"
      }
    },
    {
      "cell_type": "markdown",
      "source": [
        "4. What is the difference between abstraction and encapsulation?\n",
        "- Abstraction is the process of hiding implementation details and showing only the necessary functionalities to the user.\n",
        "- While encapsulation is the process of wrapping data (variables) and methods into a single unit (class) and restricting direct access to that data."
      ],
      "metadata": {
        "id": "elf7q3kq14Tc"
      }
    },
    {
      "cell_type": "markdown",
      "source": [
        "5. What are dunder methods in Python?\n",
        "- Dunder methods (also called magic methods or special methods) are built-in methods in Python that start and end with double underscores (__method__).\n",
        "- hey define how objects behave in different situations, like initialization, representation, comparison, arithmetic operations, and more.\n",
        "- for example:- __init__, __str__, __len__ etc."
      ],
      "metadata": {
        "id": "V88Es3x22Sjj"
      }
    },
    {
      "cell_type": "markdown",
      "source": [
        "6.  Explain the concept of inheritance in OOP?\n",
        "- Inheritance in OOP is the mechanism where a child class (derived class) acquires properties and behaviors (attributes and methods) of a parent class (base class).\n",
        "- types of inheritance\n",
        "  - Simple Inheritance\n",
        "  - Multiple Inheritance\n",
        "  - Multilevel Inheritance\n",
        "  - Hierarchical Inheritance\n",
        "  - Hybrid Inheritance"
      ],
      "metadata": {
        "id": "7p9RGPXN2xAM"
      }
    },
    {
      "cell_type": "markdown",
      "source": [
        "7. What is polymorphism in OOP?\n",
        "- Polymorphism means \"many forms.\" In OOP, it's the ability of an object to take on many forms. More practically, it allows you to use a single interface (like a method name) to represent different underlying forms (implementations). For example, if you have Dog, Cat, and Bird objects, you can call a .speak() method on each, and it will correctly return \"Woof,\" \"Meow,\" or \"Chirp\" depending on the object's type. This allows for writing flexible and generic code."
      ],
      "metadata": {
        "id": "v6Pmll3g3ldr"
      }
    },
    {
      "cell_type": "markdown",
      "source": [
        "8. How is encapsulation achieved in Python?\n",
        "- Encapsulation is the bundling of data (attributes) and the methods that operate on that data into a single unit called a class. It restricts direct access to some of an object's components, which is a way to prevent accidental modification of data.\n",
        "\n",
        "- In Python, encapsulation is achieved by convention rather than strict enforcement:\n",
        "\n",
        "  - Protected Members: Prefixed with a single underscore (e.g., _my_variable). This is a hint to other programmers that the attribute or method is intended for internal use within the class and its subclasses.\n",
        "\n",
        "  - Private Members: Prefixed with a double underscore (e.g., __my_variable). This triggers name mangling, where Python changes the name to _ClassName__my_variable, making it harder to access from outside the class."
      ],
      "metadata": {
        "id": "CvBI-0mRL9W7"
      }
    },
    {
      "cell_type": "markdown",
      "source": [
        "9. What is a constructor in Python?\n",
        "- A constructor is a special method that is automatically called when a new instance (object) of a class is created. Its primary purpose is to initialize the object's state by setting the initial values for its attributes. In Python, the constructor method is named __init__.\n",
        "\n"
      ],
      "metadata": {
        "id": "-GFaIvhfMW_i"
      }
    },
    {
      "cell_type": "markdown",
      "source": [
        "\n",
        "10. What are class and static methods in Python?\n",
        "These are two special types of methods decorated to change how they behave.\n",
        "\n",
        "- Class Method (@classmethod): A class method is bound to the class and not the object instance. It receives the class itself as the first argument, conventionally named $cls$. It can modify class-level state or be used for factory methods that create instances of the class in different ways.\n",
        "\n",
        "- Static Method (@staticmethod): A static method is not bound to the class or the instance. It doesn't receive any special first argument ($self$ or $cls$). It is essentially a regular function that is namespaced within the class because it is logically related to it. It cannot modify the object or class state."
      ],
      "metadata": {
        "id": "G2Ij3Tw6MzNL"
      }
    },
    {
      "cell_type": "markdown",
      "source": [
        "11. What is method overloading in Python?\n",
        "- Python does not support traditional method overloading in the way languages like Java or C++ do (where we can define multiple methods with the same name but different parameter types).\n",
        "\n",
        "- In Python, if we define a method with the same name multiple times, the last definition will overwrite all previous ones. we can achieve similar functionality by using:\n",
        "\n",
        "- Default arguments: def my_method(a, b=None): ...\n",
        "\n",
        "- Variable-length arguments: def my_method(*args, **kwargs): ...\n",
        "\n"
      ],
      "metadata": {
        "id": "rJeLKD_lM1Rj"
      }
    },
    {
      "cell_type": "markdown",
      "source": [
        "12. What is method overriding in OOP?\n",
        "\n",
        "- Method overriding occurs when a subclass (child class) provides a specific implementation for a method that is already defined in its superclass (parent class). The new method in the subclass must have the same name and parameters as the one in the parent. This is a key part of polymorphism, allowing a child class to provide its own version of a behavior."
      ],
      "metadata": {
        "id": "AvplgepuNM2s"
      }
    },
    {
      "cell_type": "markdown",
      "source": [
        "13. What is a property decorator in Python?\n",
        "- The @property decorator is a built-in Python feature that allows us to define methods that can be accessed like attributes (i.e., without parentheses). It's a \"Pythonic\" way to implement getters, setters, and deleters."
      ],
      "metadata": {
        "id": "HXPs5nw5NU1G"
      }
    },
    {
      "cell_type": "markdown",
      "source": [
        "14. Why is polymorphism important in OOP?\n",
        "- Polymorphism is crucial because it makes code more flexible, reusable, and extensible.\n",
        "\n",
        "- Flexibility: It allows objects of different classes to be processed through the same interface, reducing the need for lengthy if-elif-else statements to check for an object's type.\n",
        "\n",
        "- Extensibility: We can introduce new classes that conform to the interface without changing the code that uses the interface.\n",
        "\n",
        "- Code Reusability: It allows you to write generic code that can work with a wide range of objects, as long as they share the common interface."
      ],
      "metadata": {
        "id": "DbZbTqM9NoAH"
      }
    },
    {
      "cell_type": "markdown",
      "source": [
        "15. What is an abstract class in Python?\n",
        "- An abstract class is a blueprint for other classes that cannot be used to create objects on its own. It's designed to be inherited by other classes, forcing them to implement specific methods that are declared but not defined in the abstract class.\n",
        "\n",
        "- In short, it sets a rulebook for its subclasses to follow."
      ],
      "metadata": {
        "id": "QYbq8RJlXwkI"
      }
    },
    {
      "cell_type": "markdown",
      "source": [
        "16. What are the advantages of OOP?\n",
        "- Object-Oriented Programming provides several key advantages for software development:\n",
        "\n",
        "  - Modularity: Encapsulation creates self-contained objects, making troubleshooting and collaborative development easier.\n",
        "\n",
        "  - Reusability: Inheritance allows you to reuse code from existing classes, saving time and effort.\n",
        "\n",
        "  - Maintainability: OOP code is often easier to read, maintain, and update because of its organized structure.\n",
        "\n",
        "  - Flexibility: Polymorphism allows you to create flexible programs that can be easily adapted and extended.\n",
        "\n",
        "  - Data Security: Encapsulation hides internal data, protecting it from accidental external modification."
      ],
      "metadata": {
        "id": "m_bVc0GENzXW"
      }
    },
    {
      "cell_type": "markdown",
      "source": [
        "17. What is multiple inheritance in Python?\n",
        "- Multiple inheritance is a feature where a class can inherit attributes and methods from more than one parent class. This allows a class to combine the functionalities of several existing classes.\n"
      ],
      "metadata": {
        "id": "gJr3ZAe1ONPY"
      }
    },
    {
      "cell_type": "markdown",
      "source": [
        "18. What is the difference between a class variable and an instance variable?\n",
        "- Class Variable: It is shared by all instances of a class. There is only one copy of it, and it's stored in the class itself. If one instance changes the class variable, the change will be reflected for all other instances. It's defined inside the class but outside of any methods.\n",
        "\n",
        "- Instance Variable: It is unique to each instance of a class. It's defined inside the constructor (__init__) using the $self$ keyword. Every object has its own copy of instance variables."
      ],
      "metadata": {
        "id": "A0xWggdDOaz3"
      }
    },
    {
      "cell_type": "markdown",
      "source": [
        "19. Explain the purpose of __str__ and __repr__ methods in Python\n",
        "- These are special \"dunder\" (double underscore) methods for getting a string representation of an object.\n",
        "\n",
        "- __str__: Its goal is to return a readable, user-friendly string representation of the object. It's called by the print() function and the str() constructor. This is what you would want to show to an end-user.\n",
        "\n",
        "- __repr__: Its goal is to return an unambiguous, official string representation of the object. Ideally, this string should be a valid Python expression that can be used to recreate the object. It's meant for developers for debugging. It's called by the repr() function and is the fallback for - __str__ if it's not defined.\n",
        "\n",
        "- A good rule of thumb: __repr__ is for developers, __str__ is for users."
      ],
      "metadata": {
        "id": "5LWHwEA_OrMG"
      }
    },
    {
      "cell_type": "markdown",
      "source": [
        "20. What is the significance of the super() function in Python?\n",
        "- The super() function allows a subclass to call methods that are defined in its superclass. It is essential for extending the functionality of an inherited method, rather than completely replacing it.\n",
        "\n",
        "- Its most common use case is in the __init__ method of a subclass, where you call super().__init__() to ensure that the parent class's constructor is executed, properly initializing any inherited attributes."
      ],
      "metadata": {
        "id": "DEE-Zn8bPBcn"
      }
    },
    {
      "cell_type": "markdown",
      "source": [
        "21. What is the significance of the __del__ method in Python?\n",
        "- The __del__ method is a finalizer or destructor. Python's garbage collector calls this method just before an object is destroyed (when its reference count becomes zero).\n",
        "\n",
        "- While it can be used for cleanup tasks (like closing file handles or network connections), its use is generally discouraged. The timing of when it gets called is not guaranteed. For resource management, it is much more reliable to use context managers (the with statement)."
      ],
      "metadata": {
        "id": "ijAEtdSnPOPN"
      }
    },
    {
      "cell_type": "markdown",
      "source": [
        "22. What is the difference between @staticmethod and @classmethod in Python?\n",
        "- First Argument: The most fundamental difference is the first argument each method receives.\n",
        "\n",
        "  - A @classmethod receives the class itself as its first argument, conventionally named $cls$.\n",
        "\n",
        "  - A @staticmethod receives no special first argument; it's like a regular function.\n",
        "\n",
        "- Purpose & Use Case: They are designed for different tasks.\n",
        "\n",
        "  - @classmethod is often used for factory methods that create instances of the class using alternative ways (e.g., from a file or a dictionary). Since it has access to the class ($cls$), it can call the class constructor.\n",
        "\n",
        "  - @staticmethod is used for utility functions that are logically related to the class but do not depend on the class or any instance of it.\n",
        "\n",
        "- State Access: Their ability to interact with the class or instance state differs.\n",
        "\n",
        "  - @classmethod can access and modify class-level state (i.e., class variables) through the $cls$ argument. It cannot modify instance state because it doesn't have access to $self$.\n",
        "\n",
        "  - @staticmethod cannot access or modify either class or instance state. It is completely self-contained.\n",
        "\n",
        "- Decorator Usage:\n",
        "\n",
        "  - A @classmethod is defined by placing the @classmethod decorator above the method definition.\n",
        "\n",
        "  - A @staticmethod is defined by placing the @staticmethod decorator above the method definition."
      ],
      "metadata": {
        "id": "kbc6KmTWVW-e"
      }
    },
    {
      "cell_type": "markdown",
      "source": [
        "22. How does polymorphism work in Python with inheritance?\n",
        "- Polymorphism with inheritance works through method overriding.\n",
        "\n",
        "- A base (parent) class defines a common method.\n",
        "\n",
        "- Multiple derived (child) classes inherit from the base class and each provides its own specific implementation (overrides) of that method.\n",
        "\n",
        "- You can then create objects of these different child classes but treat them as if they are objects of the parent class. When you call the overridden method on these objects, Python dynamically determines which version of the method to execute based on the object's actual type at runtime. This is often called runtime polymorphism."
      ],
      "metadata": {
        "id": "5UXpaXmKVgwb"
      }
    },
    {
      "cell_type": "markdown",
      "source": [
        "23. What is method chaining in Python OOP?\n",
        "- Method chaining is a programming pattern where multiple methods are called sequentially on the same object in a single line of code. This is achieved by having each method in the chain return the instance object itself ($self$).\n",
        "\n",
        "- It leads to highly readable and fluent code, especially when configuring an object."
      ],
      "metadata": {
        "id": "Omz6FOp1VsPl"
      }
    },
    {
      "cell_type": "markdown",
      "source": [
        "24. What is the purpose of the __call__ method in Python?\n",
        "- Implementing the __call__ method in a class allows an instance of that class to be called as if it were a function. This creates a \"callable object.\"\n",
        "\n",
        "- This is useful when you want to create an object that behaves like a function but also needs to maintain its own internal state between calls. For example, you could create a counter object that increments its internal count every time it's \"called.\""
      ],
      "metadata": {
        "id": "p8BbjPNuV3hl"
      }
    },
    {
      "cell_type": "markdown",
      "source": [
        "#PRACTICAL QUESTIONS"
      ],
      "metadata": {
        "id": "ZUl6_oJcYH6U"
      }
    },
    {
      "cell_type": "markdown",
      "source": [
        "1.  Create a parent class Animal with a method speak() that prints a generic message. Create a child class Dog\n",
        "that overrides the speak() method to print \"Bark!\"."
      ],
      "metadata": {
        "id": "tkYVmipqYoKX"
      }
    },
    {
      "cell_type": "code",
      "source": [
        "class Animal:\n",
        "    def speak(self):\n",
        "        print(\"A generic animal sound.\")\n",
        "\n",
        "class Dog(Animal):\n",
        "    def speak(self):\n",
        "        print(\"Bark!\")\n",
        "generic_animal = Animal()\n",
        "generic_animal.speak()\n",
        "dog = Dog()\n",
        "dog.speak()"
      ],
      "metadata": {
        "colab": {
          "base_uri": "https://localhost:8080/"
        },
        "id": "TzMuNobQYwPh",
        "outputId": "74822df9-52c0-41b5-b051-97f1e7ac9c21"
      },
      "execution_count": 5,
      "outputs": [
        {
          "output_type": "stream",
          "name": "stdout",
          "text": [
            "A generic animal sound.\n",
            "Bark!\n"
          ]
        }
      ]
    },
    {
      "cell_type": "markdown",
      "source": [
        " 2. Write a program to create an abstract class Shape with a method area(). Derive classes Circle and Rectangle\n",
        "from it and implement the area() method in both.\n"
      ],
      "metadata": {
        "id": "vMfTDpdOZTih"
      }
    },
    {
      "cell_type": "code",
      "source": [
        "from abc import ABC, abstractmethod\n",
        "\n",
        "class Shape(ABC):\n",
        "    @abstractmethod\n",
        "    def area(self):\n",
        "        pass\n",
        "\n",
        "class Circle(Shape):\n",
        "    def __init__(self, radius):\n",
        "        self.radius = radius\n",
        "\n",
        "    def area(self):\n",
        "        return 3.14159 * self.radius * self.radius\n",
        "\n",
        "class Rectangle(Shape):\n",
        "    def __init__(self, width, height):\n",
        "        self.width = width\n",
        "        self.height = height\n",
        "\n",
        "    def area(self):\n",
        "        return self.width * self.height\n",
        "circle = Circle(5)\n",
        "rectangle = Rectangle(4, 6)\n",
        "print(f\"Circle Area: {circle.area()}\")\n",
        "print(f\"Rectangle Area: {rectangle.area()}\")\n"
      ],
      "metadata": {
        "colab": {
          "base_uri": "https://localhost:8080/"
        },
        "id": "bQ5k-vTIY-2A",
        "outputId": "e066f08d-db14-4564-a9c4-f0f24b6890e9"
      },
      "execution_count": 6,
      "outputs": [
        {
          "output_type": "stream",
          "name": "stdout",
          "text": [
            "Circle Area: 78.53975\n",
            "Rectangle Area: 24\n"
          ]
        }
      ]
    },
    {
      "cell_type": "markdown",
      "source": [
        " 3. Implement a multi-level inheritance scenario where a class Vehicle has an attribute type. Derive a class Car\n",
        "and further derive a class ElectricCar that adds a battery attribute."
      ],
      "metadata": {
        "id": "BfXH-N2DZZJG"
      }
    },
    {
      "cell_type": "code",
      "source": [
        "class Vehicle:\n",
        "    def __init__(self, vehicle_type):\n",
        "        self.type = vehicle_type\n",
        "\n",
        "class Car(Vehicle):\n",
        "    def __init__(self, vehicle_type, model):\n",
        "        super().__init__(vehicle_type)\n",
        "        self.model = model\n",
        "\n",
        "class ElectricCar(Car):\n",
        "    def __init__(self, vehicle_type, model, battery_capacity):\n",
        "        super().__init__(vehicle_type, model)\n",
        "        self.battery = battery_capacity\n",
        "\n",
        "\n",
        "my_ev = ElectricCar(\"Electric\", \"Tesla Model S\", \"100kWh\")\n",
        "print(f\"Type: {my_ev.type}, Model: {my_ev.model}, Battery: {my_ev.battery}\")\n",
        "\n"
      ],
      "metadata": {
        "colab": {
          "base_uri": "https://localhost:8080/"
        },
        "id": "corMBoPUZYMV",
        "outputId": "31f9c9ad-b027-4e37-e944-7d5ef445acc9"
      },
      "execution_count": 7,
      "outputs": [
        {
          "output_type": "stream",
          "name": "stdout",
          "text": [
            "Type: Electric, Model: Tesla Model S, Battery: 100kWh\n"
          ]
        }
      ]
    },
    {
      "cell_type": "markdown",
      "source": [
        " 4. Demonstrate polymorphism by creating a base class Bird with a method fly(). Create two derived classes\n",
        "Sparrow and Penguin that override the fly() method."
      ],
      "metadata": {
        "id": "t6OUNiSEZk_1"
      }
    },
    {
      "cell_type": "code",
      "source": [
        "class Bird:\n",
        "    def fly(self):\n",
        "        print(\"This bird can fly.\")\n",
        "\n",
        "class Sparrow(Bird):\n",
        "    def fly(self):\n",
        "        print(\"Sparrow flies high.\")\n",
        "\n",
        "class Penguin(Bird):\n",
        "    def fly(self):\n",
        "        print(\"Penguin cannot fly, it swims.\")\n",
        "\n",
        "def make_bird_fly(bird):\n",
        "    bird.fly()\n",
        "sparrow = Sparrow()\n",
        "penguin = Penguin()\n",
        "make_bird_fly(sparrow)\n"
      ],
      "metadata": {
        "colab": {
          "base_uri": "https://localhost:8080/"
        },
        "id": "c-YSJi4lZnv1",
        "outputId": "69f38565-67ad-4954-9ba6-e56b53dddfea"
      },
      "execution_count": 8,
      "outputs": [
        {
          "output_type": "stream",
          "name": "stdout",
          "text": [
            "Sparrow flies high.\n"
          ]
        }
      ]
    },
    {
      "cell_type": "markdown",
      "source": [
        "5. Write a program to demonstrate encapsulation by creating a class BankAccount with private attributes\n",
        "balance and methods to deposit, withdraw, and check balance."
      ],
      "metadata": {
        "id": "L9rxEONWZ2GV"
      }
    },
    {
      "cell_type": "code",
      "source": [
        "class BankAccount:\n",
        "    def __init__(self, initial_balance=0):\n",
        "        self.__balance = initial_balance\n",
        "\n",
        "    def deposit(self, amount):\n",
        "        if amount > 0:\n",
        "            self.__balance += amount\n",
        "            print(f\"Deposited ${amount}.\")\n",
        "        else:\n",
        "            print(\"Deposit amount must be positive.\")\n",
        "\n",
        "    def withdraw(self, amount):\n",
        "        if 0 < amount <= self.__balance:\n",
        "            self.__balance -= amount\n",
        "            print(f\"Withdrew ${amount}.\")\n",
        "        else:\n",
        "            print(\"Invalid withdrawal amount or insufficient funds.\")\n",
        "\n",
        "    def check_balance(self):\n",
        "        print(f\"Current balance: ${self.__balance}\")\n",
        "account = BankAccount(100)\n",
        "account.check_balance()\n",
        "account.deposit(50)\n",
        "account.withdraw(30)\n",
        "account.check_balance()\n",
        "# print(account.__balance) # This will cause an AttributeError\n",
        "\n",
        "\n"
      ],
      "metadata": {
        "colab": {
          "base_uri": "https://localhost:8080/"
        },
        "id": "eR9PJrgXZ0D8",
        "outputId": "ee5a0aab-90a0-44aa-f6e9-aae61759ae12"
      },
      "execution_count": 9,
      "outputs": [
        {
          "output_type": "stream",
          "name": "stdout",
          "text": [
            "Current balance: $100\n",
            "Deposited $50.\n",
            "Withdrew $30.\n",
            "Current balance: $120\n"
          ]
        }
      ]
    },
    {
      "cell_type": "markdown",
      "source": [
        "6. Demonstrate runtime polymorphism using a method play() in a base class Instrument. Derive classes Guitar\n",
        "and Piano that implement their own version of play()."
      ],
      "metadata": {
        "id": "n1mycP4Laih6"
      }
    },
    {
      "cell_type": "code",
      "source": [
        "\n",
        "class Instrument:\n",
        "    def play(self):\n",
        "        print(\"The instrument is playing a sound.\")\n",
        "\n",
        "class Guitar(Instrument):\n",
        "    def play(self):\n",
        "        print(\"The guitar is strumming.\")\n",
        "\n",
        "class Piano(Instrument):\n",
        "    def play(self):\n",
        "        print(\"The piano is playing a melody.\")\n",
        "\n",
        "def play_instrument(instrument):\n",
        "    instrument.play()\n",
        "\n",
        "\n",
        "guitar = Guitar()\n",
        "piano = Piano()\n",
        "play_instrument(guitar)\n",
        "play_instrument(piano)\n",
        "\n",
        "\n",
        "\n"
      ],
      "metadata": {
        "colab": {
          "base_uri": "https://localhost:8080/"
        },
        "id": "qi23K5BQajZr",
        "outputId": "884d0a6b-249e-4e94-eb0e-cb2f030031cc"
      },
      "execution_count": 10,
      "outputs": [
        {
          "output_type": "stream",
          "name": "stdout",
          "text": [
            "The guitar is strumming.\n",
            "The piano is playing a melody.\n"
          ]
        }
      ]
    },
    {
      "cell_type": "markdown",
      "source": [
        " 7. Create a class MathOperations with a class method add_numbers() to add two numbers and a static\n",
        "method subtract_numbers() to subtract two numbers."
      ],
      "metadata": {
        "id": "4OpsWH6nayow"
      }
    },
    {
      "cell_type": "code",
      "source": [
        "class MathOperations:\n",
        "    @classmethod\n",
        "    def add_numbers(cls, num1, num2):\n",
        "        return num1 + num2\n",
        "\n",
        "    @staticmethod\n",
        "    def subtract_numbers(num1, num2):\n",
        "        return num1 - num2\n",
        "sum_result = MathOperations.add_numbers(10, 5)\n",
        "diff_result = MathOperations.subtract_numbers(10, 5)\n",
        "print(f\"Sum: {sum_result}\")\n",
        "print(f\"Difference: {diff_result}\")\n"
      ],
      "metadata": {
        "colab": {
          "base_uri": "https://localhost:8080/"
        },
        "id": "OyatDaaWa3UD",
        "outputId": "cceb678a-a4d4-4f4f-9682-e31f6dbfc934"
      },
      "execution_count": 22,
      "outputs": [
        {
          "output_type": "stream",
          "name": "stdout",
          "text": [
            "Sum: 15\n",
            "Difference: 5\n",
            "--------------------\n"
          ]
        }
      ]
    },
    {
      "cell_type": "markdown",
      "source": [
        "8. Implement a class Person with a class method to count the total number of persons created."
      ],
      "metadata": {
        "id": "E9Q39ts0a3ug"
      }
    },
    {
      "cell_type": "code",
      "source": [
        "class Person:\n",
        "    total_persons = 0\n",
        "\n",
        "    def __init__(self, name):\n",
        "        self.name = name\n",
        "        Person.total_persons += 1\n",
        "\n",
        "    @classmethod\n",
        "    def get_total_persons(cls):\n",
        "        return cls.total_persons\n",
        "person1 = Person(\"Alice\")\n",
        "person2 = Person(\"Bob\")\n",
        "print(f\"Total number of persons created: {Person.get_total_persons()}\")"
      ],
      "metadata": {
        "colab": {
          "base_uri": "https://localhost:8080/"
        },
        "id": "c1a_6ECga4bz",
        "outputId": "cd5fa23a-e1c0-45a7-d674-ea3126f739bb"
      },
      "execution_count": 23,
      "outputs": [
        {
          "output_type": "stream",
          "name": "stdout",
          "text": [
            "Total number of persons created: 2\n"
          ]
        }
      ]
    },
    {
      "cell_type": "markdown",
      "source": [
        " 9. Write a class Fraction with attributes numerator and denominator. Override the str method to display the\n",
        "fraction as \"numerator/denominator\"."
      ],
      "metadata": {
        "id": "1H6xJaMHa7CV"
      }
    },
    {
      "cell_type": "code",
      "source": [
        "class Fraction:\n",
        "    def __init__(self, numerator, denominator):\n",
        "        self.numerator = numerator\n",
        "        self.denominator = denominator\n",
        "\n",
        "    def __str__(self):\n",
        "        return f\"{self.numerator}/{self.denominator}\"\n",
        "\n",
        "my_fraction = Fraction(3, 4)\n",
        "print(my_fraction)"
      ],
      "metadata": {
        "colab": {
          "base_uri": "https://localhost:8080/"
        },
        "id": "vDNSl1fsbBhN",
        "outputId": "72bcdf6a-604b-4465-c5a0-878d5c1da9d3"
      },
      "execution_count": 21,
      "outputs": [
        {
          "output_type": "stream",
          "name": "stdout",
          "text": [
            "--- Question 9 ---\n",
            "3/4\n",
            "--------------------\n"
          ]
        }
      ]
    },
    {
      "cell_type": "markdown",
      "source": [
        " 10. Demonstrate operator overloading by creating a class Vector and overriding the add method to add two\n",
        "vectors"
      ],
      "metadata": {
        "id": "fDqAuPNibCEX"
      }
    },
    {
      "cell_type": "code",
      "source": [
        "class Vector:\n",
        "    def __init__(self, x, y):\n",
        "        self.x = x\n",
        "        self.y = y\n",
        "\n",
        "    def __add__(self, other):\n",
        "        return Vector(self.x + other.x, self.y + other.y)\n",
        "\n",
        "    def __str__(self):\n",
        "        return f\"Vector({self.x}, {self.y})\"\n",
        "\n",
        "v1 = Vector(2, 3)\n",
        "v2 = Vector(4, 5)\n",
        "v3 = v1 + v2\n",
        "print(v3)"
      ],
      "metadata": {
        "colab": {
          "base_uri": "https://localhost:8080/"
        },
        "id": "MtDo3630bGNY",
        "outputId": "8d7e1be1-e1bd-435e-cd32-1499958a5f4e"
      },
      "execution_count": 20,
      "outputs": [
        {
          "output_type": "stream",
          "name": "stdout",
          "text": [
            "Vector(6, 8)\n"
          ]
        }
      ]
    },
    {
      "cell_type": "markdown",
      "source": [
        " 11. Create a class Person with attributes name and age. Add a method greet() that prints \"Hello, my name is\n",
        "{name} and I am {age} years old.\""
      ],
      "metadata": {
        "id": "hcQE8YJ5bGmO"
      }
    },
    {
      "cell_type": "code",
      "source": [
        "class PersonQ11:\n",
        "    def __init__(self, name, age):\n",
        "        self.name = name\n",
        "        self.age = age\n",
        "\n",
        "    def greet(self):\n",
        "        print(f\"Hello, my name is {self.name} and I am {self.age} years old.\")\n",
        "\n",
        "p = PersonQ11(\"Charlie\", 30)\n",
        "p.greet()\n"
      ],
      "metadata": {
        "colab": {
          "base_uri": "https://localhost:8080/"
        },
        "id": "M_NezDx6bJcH",
        "outputId": "e5dea335-e459-4fac-a3bc-b8ddb8e4bf56"
      },
      "execution_count": 18,
      "outputs": [
        {
          "output_type": "stream",
          "name": "stdout",
          "text": [
            "Hello, my name is Charlie and I am 30 years old.\n"
          ]
        }
      ]
    },
    {
      "cell_type": "markdown",
      "source": [
        "12. Implement a class Student with attributes name and grades. Create a method average_grade() to compute\n",
        "the average of the grades."
      ],
      "metadata": {
        "id": "qf0Ec3XlbJ1U"
      }
    },
    {
      "cell_type": "code",
      "source": [
        "class Student:\n",
        "    def __init__(self, name, grades):\n",
        "        self.name = name\n",
        "        self.grades = grades\n",
        "\n",
        "    def average_grade(self):\n",
        "        if not self.grades:\n",
        "            return 0\n",
        "        return sum(self.grades) / len(self.grades)\n",
        "\n",
        "student = Student(\"Dana\", [88, 92, 95, 85])\n",
        "print(f\"{student.name}'s average grade: {student.average_grade()}\")\n"
      ],
      "metadata": {
        "colab": {
          "base_uri": "https://localhost:8080/"
        },
        "id": "LLci_0r_bPwG",
        "outputId": "40fc8bf9-a751-44a6-9e83-c27667d3c635"
      },
      "execution_count": 17,
      "outputs": [
        {
          "output_type": "stream",
          "name": "stdout",
          "text": [
            "Dana's average grade: 90.0\n"
          ]
        }
      ]
    },
    {
      "cell_type": "markdown",
      "source": [
        " 13. Create a class Rectangle with methods set_dimensions() to set the dimensions and area() to calculate the\n",
        "area."
      ],
      "metadata": {
        "id": "azXFG-01bOOw"
      }
    },
    {
      "cell_type": "code",
      "source": [
        "class RectangleQ13:\n",
        "    def __init__(self):\n",
        "        self.width = 0\n",
        "        self.height = 0\n",
        "\n",
        "    def set_dimensions(self, width, height):\n",
        "        self.width = width\n",
        "        self.height = height\n",
        "\n",
        "    def area(self):\n",
        "        return self.width * self.height\n",
        "\n",
        "\n",
        "rect = RectangleQ13()\n",
        "rect.set_dimensions(7, 5)\n",
        "print(f\"Rectangle area: {rect.area()}\")\n"
      ],
      "metadata": {
        "colab": {
          "base_uri": "https://localhost:8080/"
        },
        "id": "cPy85lpxbOi_",
        "outputId": "935035fe-d2c9-471f-b144-e66444eaad0f"
      },
      "execution_count": 16,
      "outputs": [
        {
          "output_type": "stream",
          "name": "stdout",
          "text": [
            "Rectangle area: 35\n"
          ]
        }
      ]
    },
    {
      "cell_type": "markdown",
      "source": [
        " 14. Create a class Employee with a method calculate_salary() that computes the salary based on hours worked\n",
        "and hourly rate. Create a derived class Manager that adds a bonus to the salary."
      ],
      "metadata": {
        "id": "N_sEkYRhbUrJ"
      }
    },
    {
      "cell_type": "code",
      "source": [
        "class Employee:\n",
        "    def __init__(self, hours_worked, hourly_rate):\n",
        "        self.hours_worked = hours_worked\n",
        "        self.hourly_rate = hourly_rate\n",
        "\n",
        "    def calculate_salary(self):\n",
        "        return self.hours_worked * self.hourly_rate\n",
        "\n",
        "class Manager(Employee):\n",
        "    def __init__(self, hours_worked, hourly_rate, bonus):\n",
        "        super().__init__(hours_worked, hourly_rate)\n",
        "        self.bonus = bonus\n",
        "\n",
        "    def calculate_salary(self):\n",
        "        base_salary = super().calculate_salary()\n",
        "        return base_salary + self.bonus\n",
        "\n",
        "\n",
        "emp = Employee(160, 20)\n",
        "mgr = Manager(160, 50, 1000)\n",
        "print(f\"Employee salary: ${emp.calculate_salary()}\")\n",
        "print(f\"Manager salary: ${mgr.calculate_salary()}\")\n"
      ],
      "metadata": {
        "colab": {
          "base_uri": "https://localhost:8080/"
        },
        "id": "w21p45-MbXrl",
        "outputId": "ab27a04c-ff3f-4bd6-8bfe-456d7bcd204c"
      },
      "execution_count": 15,
      "outputs": [
        {
          "output_type": "stream",
          "name": "stdout",
          "text": [
            "Employee salary: $3200\n",
            "Manager salary: $9000\n"
          ]
        }
      ]
    },
    {
      "cell_type": "markdown",
      "source": [
        "15. Create a class Product with attributes name, price, and quantity. Implement a method total_price() that\n",
        "calculates the total price of the product.\n"
      ],
      "metadata": {
        "id": "YjXfTkHlbYAO"
      }
    },
    {
      "cell_type": "code",
      "source": [
        "class Product:\n",
        "    def __init__(self, name, price, quantity):\n",
        "        self.name = name\n",
        "        self.price = price\n",
        "        self.quantity = quantity\n",
        "\n",
        "    def total_price(self):\n",
        "        return self.price * self.quantity\n",
        "item = Product(\"Laptop\", 1200, 3)\n",
        "print(f\"Total price for {item.quantity} {item.name}s: ${item.total_price()}\")\n"
      ],
      "metadata": {
        "colab": {
          "base_uri": "https://localhost:8080/"
        },
        "id": "Ze_g3Mc4bd4o",
        "outputId": "5c111e3f-f4bc-4216-d4c6-4e4824affe52"
      },
      "execution_count": 14,
      "outputs": [
        {
          "output_type": "stream",
          "name": "stdout",
          "text": [
            "Total price for 3 Laptops: $3600\n"
          ]
        }
      ]
    },
    {
      "cell_type": "markdown",
      "source": [
        " 16. Create a class Animal with an abstract method sound(). Create two derived classes Cow and Sheep that\n",
        "implement the sound() method.\n"
      ],
      "metadata": {
        "id": "pOnGokWFbeWA"
      }
    },
    {
      "cell_type": "code",
      "source": [
        "class Animal(ABC):\n",
        "    @abstractmethod\n",
        "    def sound(self):\n",
        "        pass\n",
        "\n",
        "class Cow(Animal):\n",
        "    def sound(self):\n",
        "        print(\"Moo\")\n",
        "\n",
        "class Sheep(Animal):\n",
        "    def sound(self):\n",
        "        print(\"Baa\")\n",
        "cow = Cow()\n",
        "sheep = Sheep()\n",
        "cow.sound()\n",
        "sheep.sound()\n",
        "print(\"-\" * 20)\n"
      ],
      "metadata": {
        "colab": {
          "base_uri": "https://localhost:8080/"
        },
        "id": "MBJ26cy1bgjt",
        "outputId": "cfaa17bc-3dde-4ce9-be3e-20afa08f6f98"
      },
      "execution_count": 13,
      "outputs": [
        {
          "output_type": "stream",
          "name": "stdout",
          "text": [
            "--- Question 16 ---\n",
            "Moo\n",
            "Baa\n",
            "--------------------\n"
          ]
        }
      ]
    },
    {
      "cell_type": "markdown",
      "source": [
        " 17. Create a class Book with attributes title, author, and year_published. Add a method get_book_info() that\n",
        "returns a formatted string with the book's details.\n"
      ],
      "metadata": {
        "id": "9ifSzwUXbhBv"
      }
    },
    {
      "cell_type": "code",
      "source": [
        "class Book:\n",
        "    def __init__(self, title, author, year_published):\n",
        "        self.title = title\n",
        "        self.author = author\n",
        "        self.year_published = year_published\n",
        "\n",
        "    def get_book_info(self):\n",
        "        return f\"'{self.title}' by {self.author}, published in {self.year_published}.\"\n",
        "\n",
        "book = Book(\"1984\", \"George Orwell\", 1949)\n",
        "print(book.get_book_info())\n"
      ],
      "metadata": {
        "colab": {
          "base_uri": "https://localhost:8080/"
        },
        "id": "iPx7HGz-biu-",
        "outputId": "69ab9033-de90-4c15-b864-6764d1bb8ffc"
      },
      "execution_count": 12,
      "outputs": [
        {
          "output_type": "stream",
          "name": "stdout",
          "text": [
            "'1984' by George Orwell, published in 1949.\n"
          ]
        }
      ]
    },
    {
      "cell_type": "markdown",
      "source": [
        " 18. Create a class House with attributes address and price. Create a derived class Mansion that adds an\n",
        "attribute number_of_rooms"
      ],
      "metadata": {
        "id": "dbhkK8t1bjER"
      }
    },
    {
      "cell_type": "code",
      "source": [
        "class House:\n",
        "    def __init__(self, address, price):\n",
        "        self.address = address\n",
        "        self.price = price\n",
        "\n",
        "class Mansion(House):\n",
        "    def __init__(self, address, price, number_of_rooms):\n",
        "        super().__init__(address, price)\n",
        "        self.number_of_rooms = number_of_rooms\n",
        "\n",
        "mansion = Mansion(\"123 Luxury Lane\", 5000000, 20)\n",
        "print(f\"Address: {mansion.address}, Price: ${mansion.price}, Rooms: {mansion.number_of_rooms}\")"
      ],
      "metadata": {
        "colab": {
          "base_uri": "https://localhost:8080/"
        },
        "id": "Gfv4t9NvbzQZ",
        "outputId": "80bf02b8-57c5-41fb-e343-443e3635fd63"
      },
      "execution_count": 11,
      "outputs": [
        {
          "output_type": "stream",
          "name": "stdout",
          "text": [
            "Address: 123 Luxury Lane, Price: $5000000, Rooms: 20\n"
          ]
        }
      ]
    }
  ]
}